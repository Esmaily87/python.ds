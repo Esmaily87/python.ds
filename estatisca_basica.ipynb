{
  "nbformat": 4,
  "nbformat_minor": 0,
  "metadata": {
    "colab": {
      "name": "estatisca_basica.ipynb",
      "provenance": [],
      "collapsed_sections": [],
      "authorship_tag": "ABX9TyPakPwUMCMr+ZqHCQ+NKJcQ",
      "include_colab_link": true
    },
    "kernelspec": {
      "name": "python3",
      "display_name": "Python 3"
    }
  },
  "cells": [
    {
      "cell_type": "markdown",
      "metadata": {
        "id": "view-in-github",
        "colab_type": "text"
      },
      "source": [
        "<a href=\"https://colab.research.google.com/github/janiosl/python.ds/blob/master/estatisca_basica.ipynb\" target=\"_parent\"><img src=\"https://colab.research.google.com/assets/colab-badge.svg\" alt=\"Open In Colab\"/></a>"
      ]
    },
    {
      "cell_type": "markdown",
      "metadata": {
        "id": "Y_JuVie6PS47"
      },
      "source": [
        "**Estatística Básica**\n",
        "\n",
        "Desenvolvido por: Janio de Souza Lima\n",
        "\n",
        "Exemplos baseados em prioriatariamente no livro Estatística Básica (Toledo e Ovale, 1985) com adaptações feitas a partir dos exercícios, das funções nativas de Python e algumas bibliotecas complementares.\n",
        "\n",
        "Quando é usado algum material complementar, sempre busquei colocar o link da fonte."
      ]
    },
    {
      "cell_type": "code",
      "metadata": {
        "id": "cWVqJvetJwDS"
      },
      "source": [
        "from datetime import datetime\n",
        "from collections import Counter\n",
        "import pandas as pd\n",
        "\n",
        "#Bibliotecas matemáticas e estatísticas\n",
        "import numpy as np\n",
        "from scipy.stats import spearmanr\n",
        "import statistics as sts\n",
        "from scipy import stats as s\n",
        "\n",
        "#Pacotes de machine learning e estatística\n",
        "from sklearn.datasets import load_diabetes\n",
        "from sklearn.linear_model import LinearRegression, Ridge\n",
        "from sklearn.preprocessing import PolynomialFeatures\n",
        "from sklearn.metrics import mean_squared_error\n",
        "from sklearn.pipeline import make_pipeline\n",
        "\n",
        "#Bibliotecas de visualização\n",
        "from matplotlib import pyplot as plt\n",
        "import seaborn as sns"
      ],
      "execution_count": null,
      "outputs": []
    },
    {
      "cell_type": "markdown",
      "metadata": {
        "id": "IvYkLCxsYNPT"
      },
      "source": [
        "**Medidas de dispersão**\n",
        "\n",
        "*Referência: TOLEDO, Geraldo Luciano e OVALLE, Ivo Izidório (1985) Estatítisca Básica. São Paulo: Atlas*\n",
        "\n",
        "Detalhes no capítulo 5 do livro"
      ]
    },
    {
      "cell_type": "code",
      "metadata": {
        "id": "zj5_3nmUKHy4"
      },
      "source": [
        "#Produção diária de dois empregados hipotéticos\n",
        "empregadoA = [70, 71, 69, 70, 70]\n",
        "empregadoB = [60, 80, 70, 62, 83]"
      ],
      "execution_count": null,
      "outputs": []
    },
    {
      "cell_type": "code",
      "metadata": {
        "id": "XhDc5y_bYm8q",
        "outputId": "79fb0e78-f5c6-470e-fdbb-aee0f7399e0a",
        "colab": {
          "base_uri": "https://localhost:8080/",
          "height": 72
        }
      },
      "source": [
        "#Média da produção\n",
        "print('Média da produção:',\n",
        "      '\\nEmpregado A:', np.mean(empregadoA),\n",
        "      '\\nEmpregado B:', np.mean(empregadoB)\n",
        "      )"
      ],
      "execution_count": null,
      "outputs": [
        {
          "output_type": "stream",
          "text": [
            "Média da produção: \n",
            "Empregado A: 70.0 \n",
            "Empregado B: 71.0\n"
          ],
          "name": "stdout"
        }
      ]
    },
    {
      "cell_type": "code",
      "metadata": {
        "id": "KGB2mTJ-Y8Oi",
        "outputId": "14a0276d-519b-43d8-8f04-1e4ed84e91d4",
        "colab": {
          "base_uri": "https://localhost:8080/",
          "height": 262
        }
      },
      "source": [
        "plt.plot(empregadoA, color='g')\n",
        "plt.plot(empregadoB, color='b')\n",
        "plt.ylabel('Produção')\n",
        "plt.xlabel('Tempo')\n",
        "plt.xticks([])\n",
        "plt.legend(['Empregado A', 'Empregado B'],\n",
        "           loc='best')\n",
        "sns.despine()"
      ],
      "execution_count": null,
      "outputs": [
        {
          "output_type": "display_data",
          "data": {
            "image/png": "[encoded data removed]",
            "text/plain": [
              "<Figure size 432x288 with 1 Axes>"
            ]
          },
          "metadata": {
            "tags": [],
            "needs_background": "light"
          }
        }
      ]
    },
    {
      "cell_type": "markdown",
      "metadata": {
        "id": "Zqen2z9G_kCj"
      },
      "source": [
        "**Amplitude**: avalia dimensão do conjunto de dados"
      ]
    },
    {
      "cell_type": "code",
      "metadata": {
        "id": "dfx3acIlZidR",
        "outputId": "b1ba77c1-9722-4d0a-b373-41c8c2c4b321",
        "colab": {
          "base_uri": "https://localhost:8080/",
          "height": 69
        }
      },
      "source": [
        "\"\"\"\n",
        "Amplitude\n",
        "at = max(dados) - min(dados)\n",
        "\"\"\"\n",
        "at_empregadoA = max(empregadoA) - min(empregadoA)\n",
        "at_empregadoB = max(empregadoB) - min(empregadoB)\n",
        "\n",
        "print(f'Amplitude da produção dos empregados:\\nA: {at_empregadoA}\\nB: {at_empregadoB}')"
      ],
      "execution_count": null,
      "outputs": [
        {
          "output_type": "stream",
          "text": [
            "Amplitude da produção dos empregados:\n",
            "A: 2\n",
            "B: 23\n"
          ],
          "name": "stdout"
        }
      ]
    },
    {
      "cell_type": "markdown",
      "metadata": {
        "id": "HKEvDZNb_vBl"
      },
      "source": [
        "Desvio médio: média aritimética dos desvios em relação a uma das medidas de tendência central (média ou mediana)\n",
        "* Considera diferenças absolutas\n",
        "* Não é tão afetado por valores extremos com o desvio padrão\n",
        "* Quando calculado em relação à mediana tende a ser bem menor do que quando o cálculo é feito em relação a qualquer outra medida de tendência central"
      ]
    },
    {
      "cell_type": "code",
      "metadata": {
        "id": "cErcVG4Y_rIs",
        "outputId": "9e208989-9d97-4241-f90c-9a4e9114b78d",
        "colab": {
          "base_uri": "https://localhost:8080/",
          "height": 69
        }
      },
      "source": [
        "\"\"\"\n",
        "Desvio médio\n",
        "dm = (abs(soma(dados[k] - media) for k in dados)) / n\n",
        "\n",
        "O mesmo cálculo poderia ser feito, substituindo a média pela mediana\n",
        "Os valores de resultado seriam diferentes, mas a lógica seria similar,\n",
        "considerando a distância das obsevações em relação à mediana\n",
        "\"\"\"\n",
        "\n",
        "#empregadoA = [10, 12, 13, 20, 25, 34, 45]\n",
        "#empregadoB = [17, 18, 19, 20, 21, 22, 23]\n",
        "\n",
        "#Cálculo da média e dimensão dos conjuntos de dados\n",
        "mediaA = np.mean(empregadoA)\n",
        "nA = len(empregadoA)\n",
        "\n",
        "mediaB = np.mean(empregadoB)\n",
        "nB = len(empregadoB)\n",
        "\n",
        "#Cálculos dos desvios médios em 3 passos\n",
        "#Cálculo da diferença entre cada observação e a média\n",
        "dmA = [abs(empregadoA[k] - mediaA) for k in range(0, len(empregadoA))]\n",
        "dmA = sum(dmA) #Soma das diferenças\n",
        "dmA = dmA / nA #Obtenção do desvio médio\n",
        "\n",
        "#Mesmo cálculo efetuado para o segundo conjunto de dados\n",
        "dmB = [abs(empregadoB[k] - mediaB) for k in range(0, len(empregadoB))]\n",
        "dmB = sum(dmB)\n",
        "dmB = dmB / nB\n",
        "\n",
        "print(f'Desvio médio da produção dos empregados:\\nA: {dmA:.3f}\\nB: {dmB:.3f}')"
      ],
      "execution_count": null,
      "outputs": [
        {
          "output_type": "stream",
          "text": [
            "Desvio médio da produção dos empregados:\n",
            "A: 0.400\n",
            "B: 8.400\n"
          ],
          "name": "stdout"
        }
      ]
    },
    {
      "cell_type": "markdown",
      "metadata": {
        "id": "sonwk6FEExbV"
      },
      "source": [
        "Outras medidas de dispersão:\n",
        "* **Desvio padrão (S)**: avaliação de desvios em relação à média com base no quadrado dos desvios"
      ]
    },
    {
      "cell_type": "code",
      "metadata": {
        "id": "pHWmUidPc50S",
        "outputId": "ee084b00-07a8-405a-8826-84b7f8932105",
        "colab": {
          "base_uri": "https://localhost:8080/",
          "height": 69
        }
      },
      "source": [
        "\"\"\"\n",
        "Desvio padrão\n",
        "dp = sqrt(\n",
        "          (soma(dados[k] - media for k in dados) ** 2) / n\n",
        "          )\n",
        "\n",
        "sqrt => Raiz quadrada\n",
        "\"\"\"\n",
        "#Cálculo direto com biblioteca numpy\n",
        "dpA = np.std(empregadoA)\n",
        "\n",
        "dpAm = [(empregadoA[k] - mediaA) for k in range(0, len(empregadoA))]\n",
        "dpAm = sum(dpAm) #Soma das diferenças\n",
        "dpAm = dmA / nA #Obtenção do desvio médio\n",
        "\n",
        "dpB = np.std(empregadoB)\n",
        "print(f'Desvio padrão da produção dos empregados:\\nA: {dpA:.3f}\\nB: {dpB:.3f}')"
      ],
      "execution_count": null,
      "outputs": [
        {
          "output_type": "stream",
          "text": [
            "Desvio padrão da produção dos empregados:\n",
            "A: 0.632\n",
            "B: 9.252\n"
          ],
          "name": "stdout"
        }
      ]
    },
    {
      "cell_type": "code",
      "metadata": {
        "id": "AMUgJCPWI8X3",
        "outputId": "d38b48ff-e9a5-43a1-f139-5930c152558e",
        "colab": {
          "base_uri": "https://localhost:8080/",
          "height": 52
        }
      },
      "source": [
        "#Cálculo manual\n",
        "\n",
        "#Quadrado da diferença entre observações e a média\n",
        "dpAm = [(empregadoA[k] - mediaA) ** 2 for k in range(0, len(empregadoA))]\n",
        "dpBm = [(empregadoB[k] - mediaB) ** 2 for k in range(0, len(empregadoB))]\n",
        "\n",
        "#Soma do quadrado das diferenças\n",
        "dpAm = sum(dpAm)\n",
        "dpBm = sum(dpBm)\n",
        "\n",
        "#Soma dividida pela quantidade de elementos\n",
        "dpAm = dpAm / nA\n",
        "dpBm = dpBm / nB\n",
        "\n",
        "#Obtenção do desvio padrão\n",
        "dpAm = np.sqrt(dpAm)\n",
        "dpBm = np.sqrt(dpBm)\n",
        "\n",
        "print(dpAm,\n",
        "      dpBm,\n",
        "      sep='\\n')"
      ],
      "execution_count": null,
      "outputs": [
        {
          "output_type": "stream",
          "text": [
            "0.6324555320336759\n",
            "9.252026804976301\n"
          ],
          "name": "stdout"
        }
      ]
    },
    {
      "cell_type": "code",
      "metadata": {
        "id": "rORgErcrj217",
        "outputId": "b60a6a40-82dc-4b0b-a085-491bbbcdf3ac",
        "colab": {
          "base_uri": "https://localhost:8080/",
          "height": 295
        }
      },
      "source": [
        "plt.barh(['A', 'B'],\n",
        "         [dpAm, dpBm],\n",
        "         color=['g', 'b'])\n",
        "plt.title('Comparação de desvios padrão (Fórmula população)')\n",
        "plt.ylabel('Empregados')\n",
        "plt.xlabel('Desvio padrão da produção')\n",
        "sns.despine()"
      ],
      "execution_count": null,
      "outputs": [
        {
          "output_type": "display_data",
          "data": {
            "image/png": "[encoded data removed]",
            "text/plain": [
              "<Figure size 432x288 with 1 Axes>"
            ]
          },
          "metadata": {
            "tags": [],
            "needs_background": "light"
          }
        }
      ]
    },
    {
      "cell_type": "code",
      "metadata": {
        "id": "U7fkNeC8XRSS",
        "outputId": "ffe2f487-c5d9-4cff-8881-30273aac985a",
        "colab": {
          "base_uri": "https://localhost:8080/",
          "height": 52
        }
      },
      "source": [
        "\"\"\"\n",
        "Desvio padrão para amostras\n",
        "dp = sqrt(\n",
        "          (soma(dados[k] - media for k in dados) ** 2) / (n - 1)\n",
        "          )\n",
        "O ajuste é realizado no divisor da fórmula que ao invés de n, considera n - 1\n",
        "Isso ocorre para chegarmos a uma estimativa melhor do parâmetro de população.\n",
        "\"\"\"\n",
        "\n",
        "#Cálculo quando o conjunto de dados refere-se a uma amostra\n",
        "#Quadrado da diferença entre observações e a média\n",
        "dpAm = [(empregadoA[k] - mediaA) ** 2 for k in range(0, len(empregadoA))]\n",
        "dpBm = [(empregadoB[k] - mediaB) ** 2 for k in range(0, len(empregadoB))]\n",
        "\n",
        "#Soma do quadrado das diferenças\n",
        "dpAm = sum(dpAm)\n",
        "dpBm = sum(dpBm)\n",
        "\n",
        "#Soma dividida pela quantidade de elementos\n",
        "dpAm = dpAm / (nA - 1)\n",
        "dpBm = dpBm / (nB - 1)\n",
        "\n",
        "#Obtenção do desvio padrão\n",
        "dpAm = np.sqrt(dpAm)\n",
        "dpBm = np.sqrt(dpBm)\n",
        "\n",
        "print(dpAm,\n",
        "      dpBm,\n",
        "      sep='\\n')"
      ],
      "execution_count": null,
      "outputs": [
        {
          "output_type": "stream",
          "text": [
            "0.7071067811865476\n",
            "10.344080432788601\n"
          ],
          "name": "stdout"
        }
      ]
    },
    {
      "cell_type": "code",
      "metadata": {
        "id": "_RtrayVikgu3",
        "outputId": "a27ba4f3-8255-4d1f-a9d0-e54c1552d7e6",
        "colab": {
          "base_uri": "https://localhost:8080/",
          "height": 295
        }
      },
      "source": [
        "plt.barh(['A', 'B'],\n",
        "         [dpAm, dpBm],\n",
        "         color=['g', 'b'])\n",
        "plt.title('Comparação de desvios padrão (Fórmula amostra)')\n",
        "plt.ylabel('Empregados')\n",
        "plt.xlabel('Desvio padrão da produção')\n",
        "sns.despine()"
      ],
      "execution_count": null,
      "outputs": [
        {
          "output_type": "display_data",
          "data": {
            "image/png": "[encoded data removed]",
            "text/plain": [
              "<Figure size 432x288 with 1 Axes>"
            ]
          },
          "metadata": {
            "tags": [],
            "needs_background": "light"
          }
        }
      ]
    },
    {
      "cell_type": "code",
      "metadata": {
        "id": "wKLptdK0ZX0a",
        "outputId": "52fb53f6-1f77-4969-8f5c-9f6a465b7113",
        "colab": {
          "base_uri": "https://localhost:8080/",
          "height": 69
        }
      },
      "source": [
        "#Exemplo com outro conjunto de dados\n",
        "a = [10, 12, 13, 20, 25, 34, 45]\n",
        "\n",
        "#Cálculo direto com função np da biblioteca Numpy\n",
        "dp = np.std(a)\n",
        "\n",
        "def desvio_padrao(dados, tipo=1):\n",
        "  \"\"\"\n",
        "  Função personalizada para cálculo do desvio padrão\n",
        "  dados: conjunto de dados no formato lista\n",
        "  tipo:   1 -> desvio padrão da população (padrão)\n",
        "          2 -> desvio padrão da amostra\n",
        "  \"\"\"\n",
        "  n = len(dados)\n",
        "  media = np.mean(dados)\n",
        "\n",
        "  #Quadrado da diferença entre observações e a média\n",
        "  dp = [(dados[k] - media) ** 2 for k in range(0, len(dados))]\n",
        "\n",
        "  #Soma do quadrado das diferenças\n",
        "  dp = sum(dp)\n",
        "\n",
        "  #Soma dividida pela quantidade de elementos\n",
        "  if tipo == 1:\n",
        "    dp = dp / n\n",
        "  elif tipo == 2:\n",
        "    dp = dp / (n - 1)\n",
        "\n",
        "  #Obtenção do desvio padrão\n",
        "  dp = np.sqrt(dp)\n",
        "\n",
        "  return dp\n",
        "\n",
        "dppA = desvio_padrao(a)\n",
        "dpaA = desvio_padrao(a, 2)\n",
        "\n",
        "print(dp,\n",
        "      dppA,\n",
        "      dpaA,\n",
        "      sep='\\n')"
      ],
      "execution_count": null,
      "outputs": [
        {
          "output_type": "stream",
          "text": [
            "11.996598157266867\n",
            "11.996598157266867\n",
            "12.957806986707354\n"
          ],
          "name": "stdout"
        }
      ]
    },
    {
      "cell_type": "code",
      "metadata": {
        "id": "Uqeu-SufkyfL",
        "outputId": "4bfffa59-1cb6-4893-f100-962a6c70b4ff",
        "colab": {
          "base_uri": "https://localhost:8080/",
          "height": 295
        }
      },
      "source": [
        "plt.barh(['Numpy', 'Fórmula população', 'Fórmula amostra'],\n",
        "         [dp, dppA, dpaA])\n",
        "plt.title('Comparação de desvios padrão (difentes fórmulas para o mesmo dataset)')\n",
        "plt.ylabel('Métodos')\n",
        "plt.xlabel('Desvio padrão')\n",
        "sns.despine()"
      ],
      "execution_count": null,
      "outputs": [
        {
          "output_type": "display_data",
          "data": {
            "image/png": "[encoded data removed]",
            "text/plain": [
              "<Figure size 432x288 with 1 Axes>"
            ]
          },
          "metadata": {
            "tags": [],
            "needs_background": "light"
          }
        }
      ]
    },
    {
      "cell_type": "markdown",
      "metadata": {
        "id": "KbAUYCXyfrgh"
      },
      "source": [
        "Propiedades do desvio padrão:\n",
        "* Adição de um número constante a cada um dos elementos do conjunto de dados o desvio padrão se mantém.\n",
        "* Multiplicando ou divindo cada elmento do conjunto de dados com um número constante o desvio padrão fica multiplicado ou dividido, respectivamente, por este mesmo número."
      ]
    },
    {
      "cell_type": "markdown",
      "metadata": {
        "id": "cN-fi1dxmbGZ"
      },
      "source": [
        "**Variância (S²)**\n",
        "\n",
        "Quadrado do desvio padrão"
      ]
    },
    {
      "cell_type": "code",
      "metadata": {
        "id": "7OOcmfjcauIm",
        "outputId": "a3335856-3995-43a7-c341-a5a9dc62e5e4",
        "colab": {
          "base_uri": "https://localhost:8080/",
          "height": 69
        }
      },
      "source": [
        "\"\"\"\n",
        "Variância\n",
        "Como ela refere-se ao quadrado do desvio padrão, basta usar a fórmula do desvio\n",
        "sem realizar a extração da raiz quadrada\n",
        "\"\"\"\n",
        "def variancia(dados, tipo=1):\n",
        "  \"\"\"\n",
        "  dados: conjunto de dados no formato lista\n",
        "  tipo:   1 -> desvio padrão da população (padrão)\n",
        "          2 -> desvio padrão da amostra\n",
        "  \"\"\"\n",
        "  n = len(dados)\n",
        "  media = np.mean(dados)\n",
        "\n",
        "  #Quadrado da diferença entre observações e a média\n",
        "  s2 = [(dados[k] - media) ** 2 for k in range(0, len(dados))]\n",
        "\n",
        "  #Soma do quadrado das diferenças\n",
        "  s2 = sum(s2)\n",
        "\n",
        "  #Soma dividida pela quantidade de elementos\n",
        "  #Resulta na variância\n",
        "  if tipo == 1:\n",
        "    s2 = s2 / n\n",
        "  elif tipo == 2:\n",
        "    s2 = s2 / (n - 1)\n",
        "\n",
        "  return s2\n",
        "\n",
        "varA = variancia(empregadoA)\n",
        "varB = variancia(empregadoB)\n",
        "\n",
        "print(f'Variância da produção dos empregados:\\nA: {varA:.3f}\\nB: {varB:.3f}')"
      ],
      "execution_count": null,
      "outputs": [
        {
          "output_type": "stream",
          "text": [
            "Variância da produção dos empregados:\n",
            "A: 0.400\n",
            "B: 85.600\n"
          ],
          "name": "stdout"
        }
      ]
    },
    {
      "cell_type": "code",
      "metadata": {
        "id": "NnRfofEWnNFQ",
        "outputId": "7a84c557-d1f1-4308-da2b-8d6490cd87e1",
        "colab": {
          "base_uri": "https://localhost:8080/",
          "height": 296
        }
      },
      "source": [
        "plt.barh(['A', 'B'],\n",
        "         [varA, varB],\n",
        "         color=['g', 'b'])\n",
        "plt.title('Comparação de variâncias da produção')\n",
        "plt.ylabel('Empregados')\n",
        "plt.xlabel('Variância da produção')\n",
        "sns.despine()"
      ],
      "execution_count": null,
      "outputs": [
        {
          "output_type": "display_data",
          "data": {
            "image/png": "[encoded data removed]",
            "text/plain": [
              "<Figure size 432x288 with 1 Axes>"
            ]
          },
          "metadata": {
            "tags": [],
            "needs_background": "light"
          }
        }
      ]
    },
    {
      "cell_type": "code",
      "metadata": {
        "id": "G_Q6TjoUnM_1",
        "outputId": "34800fff-3ebd-4e79-ba64-b8008ccd5787",
        "colab": {
          "base_uri": "https://localhost:8080/",
          "height": 52
        }
      },
      "source": [
        "#Variância calculada com numpy\n",
        "print(np.var(empregadoA),\n",
        "      np.var(empregadoB),\n",
        "             sep='\\n')"
      ],
      "execution_count": null,
      "outputs": [
        {
          "output_type": "stream",
          "text": [
            "0.4\n",
            "85.6\n"
          ],
          "name": "stdout"
        }
      ]
    },
    {
      "cell_type": "markdown",
      "metadata": {
        "id": "o4F3z5Pnr2Z_"
      },
      "source": [
        "Propriedades da variância:\n",
        "* Primeiras duas propriedades do desvio padrão tem aplicação análoga para variância (adição/subrtação e multiplicação/divisão).\n",
        "* Variância combinada\n",
        "\n",
        "OBSERVAÇÕES:\n",
        "Verificar:\n",
        "- Correção de Sheppard para a variância para observar tratamento de distorções que podem ocorrer no cálculo em dados agrupados em classes de freqência em função da dispersão dos dados em cada classe.\n",
        "- Controle de Charlier para conferência da exatidão de cálculos de média, variância e desvio padrão"
      ]
    },
    {
      "cell_type": "markdown",
      "metadata": {
        "id": "nu-fp2UKw7Dk"
      },
      "source": [
        "**Coeficiente de variação de Pearson**\n",
        "\n",
        "CVp = (S / media) * 100"
      ]
    },
    {
      "cell_type": "code",
      "metadata": {
        "id": "nrnsTn1Ep4y7",
        "outputId": "2d6befc1-421b-4ca8-c3a5-b4f70e45444a",
        "colab": {
          "base_uri": "https://localhost:8080/",
          "height": 69
        }
      },
      "source": [
        "cvpA = (dpA / mediaA) * 100\n",
        "cvpB = (dpB / mediaB) * 100\n",
        "\n",
        "print('Coeficiente de variação de Pearson da produção dos empregados:')\n",
        "print(f'A: {cvpA:.2f}%\\nB: {cvpB:.2f}%')"
      ],
      "execution_count": null,
      "outputs": [
        {
          "output_type": "stream",
          "text": [
            "Coeficiente de variação de Pearson da produção dos empregados:\n",
            "A: 0.90%\n",
            "B: 13.03%\n"
          ],
          "name": "stdout"
        }
      ]
    },
    {
      "cell_type": "markdown",
      "metadata": {
        "id": "P7owc5-7yrx7"
      },
      "source": [
        "**Coeficiente de variação de Thorndike**\n",
        "\n",
        "CVt = (S / mediana) * 100"
      ]
    },
    {
      "cell_type": "code",
      "metadata": {
        "id": "MUYmJCJexaHU",
        "outputId": "a5bd6ac9-0771-4179-b038-bbb8a62acdf6",
        "colab": {
          "base_uri": "https://localhost:8080/",
          "height": 69
        }
      },
      "source": [
        "cvtA = (dpA / np.median(empregadoA)) * 100\n",
        "cvtB = (dpB / np.median(empregadoB)) * 100\n",
        "\n",
        "print('Coeficiente de variação de Thorndike da produção dos empregados:')\n",
        "print(f'A: {cvtA:.2f}%\\nB: {cvtB:.2f}%')"
      ],
      "execution_count": null,
      "outputs": [
        {
          "output_type": "stream",
          "text": [
            "Coeficiente de variação de Thorndike da produção dos empregados:\n",
            "A: 0.90%\n",
            "B: 13.22%\n"
          ],
          "name": "stdout"
        }
      ]
    },
    {
      "cell_type": "code",
      "metadata": {
        "id": "avrHMMdZxY7M"
      },
      "source": [
        ""
      ],
      "execution_count": null,
      "outputs": []
    },
    {
      "cell_type": "markdown",
      "metadata": {
        "id": "iiFLqmmSPw7m"
      },
      "source": [
        "***Números índices***\n",
        "\n",
        "Este conceito do ponto de vista de cálculos é simples, mas trabalhoso, por isso o foco do estudo recomendado é mais a leitura do capítulo do livro para entendimento.\n",
        "\n",
        "Referência: TOLEDO, Geraldo Luciano e OVALLE, Ivo Izidório (1985) Estatítisca Básica. São Paulo: Atlas\n",
        "\n",
        "Detalhes no capítulo 7 do livro"
      ]
    },
    {
      "cell_type": "markdown",
      "metadata": {
        "id": "7GSwiXP1Spgs"
      },
      "source": [
        "Propriedades de números índices:\n",
        "* Identidade: o número-índice deve ser igual à unidade quando a época dada (t) coincidir com a época básica (0).\n",
        "* Reversão (inversão) de tempo: se permutarem dois períodos s e t, os resultados são o inverso um do outro.\n",
        "* Circular: \"considerando um índice em que as datas aparecem em progressão aritimética e cujas comparações foram feitas com base nas datas imediatamente anteriores, o valor do índice da última data, com base na primeira, será igual ao produto dos valores da série original\" (Toledo e Ovale, 1985)"
      ]
    },
    {
      "cell_type": "code",
      "metadata": {
        "id": "pCGreoRnPVT-",
        "outputId": "415c5d1b-8f6d-443c-a1bd-765982422624",
        "colab": {
          "base_uri": "https://localhost:8080/",
          "height": 260
        }
      },
      "source": [
        "#Mudança de base\n",
        "anos = list(range(1957, 1969))\n",
        "ind_producao_industrial = [100, 104, 97, 112, 120, 124,\n",
        "                           134, 125, 139, 143, 143, 134]\n",
        "base = 1957\n",
        "\n",
        "print(f'Série original - Base: ano {base}')\n",
        "print('Ano ', 'Índice', sep=' : ')\n",
        "for k in range(0, len(anos)):\n",
        "  print(anos[k],\n",
        "        ind_producao_industrial[k],\n",
        "        sep=' : ')"
      ],
      "execution_count": null,
      "outputs": [
        {
          "output_type": "stream",
          "text": [
            "Série original - Base: ano 1957\n",
            "Ano  : Índice\n",
            "1957 : 100\n",
            "1958 : 104\n",
            "1959 : 97\n",
            "1960 : 112\n",
            "1961 : 120\n",
            "1962 : 124\n",
            "1963 : 134\n",
            "1964 : 125\n",
            "1965 : 139\n",
            "1966 : 143\n",
            "1967 : 143\n",
            "1968 : 134\n"
          ],
          "name": "stdout"
        }
      ]
    },
    {
      "cell_type": "code",
      "metadata": {
        "id": "8_4M6YdFQchR",
        "outputId": "8b91e34f-63ff-4d41-b702-c553a4803f51",
        "colab": {
          "base_uri": "https://localhost:8080/",
          "height": 34
        }
      },
      "source": [
        "#Definição da nova base de referência dos índices\n",
        "nova_base = 1961\n",
        "posicao_nb = anos.index(nova_base)\n",
        "posicao_nb"
      ],
      "execution_count": null,
      "outputs": [
        {
          "output_type": "execute_result",
          "data": {
            "text/plain": [
              "4"
            ]
          },
          "metadata": {
            "tags": []
          },
          "execution_count": 22
        }
      ]
    },
    {
      "cell_type": "code",
      "metadata": {
        "id": "5K262RStQj4p",
        "outputId": "980e082d-1c10-449d-b7dc-ad94f6b4ab48",
        "colab": {
          "base_uri": "https://localhost:8080/",
          "height": 34
        }
      },
      "source": [
        "print(anos[posicao_nb],\n",
        "      ind_producao_industrial[posicao_nb]\n",
        ")"
      ],
      "execution_count": null,
      "outputs": [
        {
          "output_type": "stream",
          "text": [
            "1961 120\n"
          ],
          "name": "stdout"
        }
      ]
    },
    {
      "cell_type": "code",
      "metadata": {
        "id": "88DVUIizQtTn",
        "outputId": "bd2d9a4c-6a70-44e4-f05f-c1725bc0b90a",
        "colab": {
          "base_uri": "https://localhost:8080/",
          "height": 34
        }
      },
      "source": [
        "val_novaBase = ind_producao_industrial[posicao_nb]\n",
        "val_novaBase"
      ],
      "execution_count": null,
      "outputs": [
        {
          "output_type": "execute_result",
          "data": {
            "text/plain": [
              "120"
            ]
          },
          "metadata": {
            "tags": []
          },
          "execution_count": 24
        }
      ]
    },
    {
      "cell_type": "code",
      "metadata": {
        "id": "pt0VtwTwQnuP",
        "outputId": "410d0ee5-806e-482b-b151-8a2cbb147dbd",
        "colab": {
          "base_uri": "https://localhost:8080/",
          "height": 34
        }
      },
      "source": [
        "\"\"\"\n",
        "Para manuntenção da coerência dos índices esta forma de ajuste só é válida\n",
        "quando o método de cálculo original dos número-índice respeita a terceira\n",
        "proprieda (Circular) de números-índices\n",
        "\"\"\"\n",
        "novos_indices = [round((ind_producao_industrial[k] / val_novaBase) * 100) for\n",
        "                 k in range(0, len(anos))]\n",
        "novos_indices"
      ],
      "execution_count": null,
      "outputs": [
        {
          "output_type": "execute_result",
          "data": {
            "text/plain": [
              "[83, 87, 81, 93, 100, 103, 112, 104, 116, 119, 119, 112]"
            ]
          },
          "metadata": {
            "tags": []
          },
          "execution_count": 25
        }
      ]
    },
    {
      "cell_type": "code",
      "metadata": {
        "id": "X39JwZw5P6wD",
        "outputId": "218f7070-5299-4b5e-e67e-7b4c20ea5a3e",
        "colab": {
          "base_uri": "https://localhost:8080/",
          "height": 260
        }
      },
      "source": [
        "print(f'Série ajustada - Base: ano {nova_base}')\n",
        "print('Ano ', 'Índice', sep=' : ')\n",
        "for k in range(0, len(anos)):\n",
        "  print(anos[k],\n",
        "        novos_indices[k],\n",
        "        sep=' : ')"
      ],
      "execution_count": null,
      "outputs": [
        {
          "output_type": "stream",
          "text": [
            "Série ajustada - Base: ano 1961\n",
            "Ano  : Índice\n",
            "1957 : 83\n",
            "1958 : 87\n",
            "1959 : 81\n",
            "1960 : 93\n",
            "1961 : 100\n",
            "1962 : 103\n",
            "1963 : 112\n",
            "1964 : 104\n",
            "1965 : 116\n",
            "1966 : 119\n",
            "1967 : 119\n",
            "1968 : 112\n"
          ],
          "name": "stdout"
        }
      ]
    },
    {
      "cell_type": "code",
      "metadata": {
        "id": "EJ1nYEy2SHeF",
        "outputId": "314277d5-8dc6-4bbf-abcd-f2fd40fcdcc7",
        "colab": {
          "base_uri": "https://localhost:8080/",
          "height": 156
        }
      },
      "source": [
        "anos_serie1 = list(range(1970, 1976))\n",
        "anos_serie2 = list(range(1975, 1981))\n",
        "\n",
        "serie1 = [100, 90, 108, 160, 196, 200]\n",
        "serie2 = [100, 120, 160, 210, 240, 250]\n",
        "\n",
        "print('Série 1')\n",
        "print('Ano ', 'Índice', sep=' : ')\n",
        "for k in range(0, len(serie1)):\n",
        "  print(anos_serie1[k],\n",
        "        serie1[k],\n",
        "        sep=' : ')"
      ],
      "execution_count": null,
      "outputs": [
        {
          "output_type": "stream",
          "text": [
            "Série 1\n",
            "Ano  : Índice\n",
            "1970 : 100\n",
            "1971 : 90\n",
            "1972 : 108\n",
            "1973 : 160\n",
            "1974 : 196\n",
            "1975 : 200\n"
          ],
          "name": "stdout"
        }
      ]
    },
    {
      "cell_type": "code",
      "metadata": {
        "id": "IUhubRrUVzpO",
        "outputId": "597f2926-8203-4a6c-c31d-8a08eef76910",
        "colab": {
          "base_uri": "https://localhost:8080/",
          "height": 156
        }
      },
      "source": [
        "print('Série 2')\n",
        "print('Ano ', 'Índice', sep=' : ')\n",
        "for k in range(0, len(serie2)):\n",
        "  print(anos_serie2[k],\n",
        "        serie2[k],\n",
        "        sep=' : ')"
      ],
      "execution_count": null,
      "outputs": [
        {
          "output_type": "stream",
          "text": [
            "Série 2\n",
            "Ano  : Índice\n",
            "1975 : 100\n",
            "1976 : 120\n",
            "1977 : 160\n",
            "1978 : 210\n",
            "1979 : 240\n",
            "1980 : 250\n"
          ],
          "name": "stdout"
        }
      ]
    },
    {
      "cell_type": "code",
      "metadata": {
        "id": "oDuF2YI-V7DY",
        "outputId": "0ae05fb9-1289-4684-bff9-9abb3be66f8c",
        "colab": {
          "base_uri": "https://localhost:8080/",
          "height": 34
        }
      },
      "source": [
        "#Ajuste\n",
        "#Série novas é mantida inalterada\n",
        "#Série 1 é ajustada com base no ano/período de encontro das duas séries (1975)\n",
        "serie1N = [round(serie1[k] / serie1[-1] * serie2[0]) for\n",
        "           k in range(0, len(serie1))]\n",
        "serie1N"
      ],
      "execution_count": null,
      "outputs": [
        {
          "output_type": "execute_result",
          "data": {
            "text/plain": [
              "[50, 45, 54, 80, 98, 100]"
            ]
          },
          "metadata": {
            "tags": []
          },
          "execution_count": 29
        }
      ]
    },
    {
      "cell_type": "code",
      "metadata": {
        "id": "xAg9o470WGp8",
        "outputId": "a8932a0f-05a9-4aec-d8d0-eccb60f4f353",
        "colab": {
          "base_uri": "https://localhost:8080/",
          "height": 243
        }
      },
      "source": [
        "anos_serieN = list(range(1970, 1981))\n",
        "serieN = serie1N[:-1] + serie2\n",
        "\n",
        "\n",
        "print('Série Completa')\n",
        "print('Ano ', 'Índice', sep=' : ')\n",
        "for k in range(0, len(serieN)):\n",
        "  print(anos_serieN[k],\n",
        "        serieN[k],\n",
        "        sep=' : ')"
      ],
      "execution_count": null,
      "outputs": [
        {
          "output_type": "stream",
          "text": [
            "Série Completa\n",
            "Ano  : Índice\n",
            "1970 : 50\n",
            "1971 : 45\n",
            "1972 : 54\n",
            "1973 : 80\n",
            "1974 : 98\n",
            "1975 : 100\n",
            "1976 : 120\n",
            "1977 : 160\n",
            "1978 : 210\n",
            "1979 : 240\n",
            "1980 : 250\n"
          ],
          "name": "stdout"
        }
      ]
    },
    {
      "cell_type": "markdown",
      "metadata": {
        "id": "sEqq3KmLY2kT"
      },
      "source": [
        "**Deflatores e poder aquisitivo**"
      ]
    },
    {
      "cell_type": "code",
      "metadata": {
        "id": "oSYF4sJ-Y5LK",
        "outputId": "dfd77ae0-0ef2-4cb0-db61-ca4829eebada",
        "colab": {
          "base_uri": "https://localhost:8080/",
          "height": 156
        }
      },
      "source": [
        "anos = list(range(1975, 1981))\n",
        "faturamento = [1600000,\n",
        "               1800000,\n",
        "               2400000,\n",
        "               2800000,\n",
        "               3000000,\n",
        "               3200000]\n",
        "indice_precos = [100, 120, 150, 160, 180, 187]\n",
        "\n",
        "print('Faturamento - Valores nominais')\n",
        "print('Ano ',\n",
        "      'Valor  ',\n",
        "      'Índice de Preços',\n",
        "      sep=' : ')\n",
        "\n",
        "for k in range(0, len(anos)):\n",
        "  print(anos[k],\n",
        "        faturamento[k],\n",
        "        indice_precos[k],\n",
        "        sep=' : ')"
      ],
      "execution_count": null,
      "outputs": [
        {
          "output_type": "stream",
          "text": [
            "Faturamento - Valores nominais\n",
            "Ano  : Valor   : Índice de Preços\n",
            "1975 : 1600000 : 100\n",
            "1976 : 1800000 : 120\n",
            "1977 : 2400000 : 150\n",
            "1978 : 2800000 : 160\n",
            "1979 : 3000000 : 180\n",
            "1980 : 3200000 : 187\n"
          ],
          "name": "stdout"
        }
      ]
    },
    {
      "cell_type": "code",
      "metadata": {
        "id": "4XF9TUhHabRi",
        "outputId": "27518d84-33e1-4a41-bad5-f2c50149c981",
        "colab": {
          "base_uri": "https://localhost:8080/",
          "height": 156
        }
      },
      "source": [
        "\"\"\"\n",
        "Calculando preço deflacionado\n",
        "Definido o ano base para deflacionamento, fazemos o seguinte:\n",
        "* (valor / indice_atual) * indice_base:\n",
        "  valor = valor a ser deflacionado\n",
        "  indice_atual = indice do período relativo ao valor a ser deflacionado\n",
        "  indice_base = indice do período escolhido como base\n",
        "\"\"\"\n",
        "fat_deflacionado = [(faturamento[k] / indice_precos[k]) * indice_precos[0] for\n",
        "    k in range(0, len(anos))]\n",
        "\n",
        "print(f'Faturamento - Falores deflacionados com base em {indice_precos[0]}')\n",
        "print('Ano ',\n",
        "      'Valor  ',\n",
        "      'Índice de Preços',\n",
        "      sep=' : ')\n",
        "\n",
        "for k in range(0, len(anos)):\n",
        "  print(anos[k],\n",
        "        round(fat_deflacionado[k]),\n",
        "        indice_precos[k],\n",
        "        sep=' : ')"
      ],
      "execution_count": null,
      "outputs": [
        {
          "output_type": "stream",
          "text": [
            "Faturamento - Falores deflacionados com base em 100\n",
            "Ano  : Valor   : Índice de Preços\n",
            "1975 : 1600000 : 100\n",
            "1976 : 1500000 : 120\n",
            "1977 : 1600000 : 150\n",
            "1978 : 1750000 : 160\n",
            "1979 : 1666667 : 180\n",
            "1980 : 1711230 : 187\n"
          ],
          "name": "stdout"
        }
      ]
    },
    {
      "cell_type": "code",
      "metadata": {
        "id": "gX2fT3aZk-6D",
        "outputId": "349651e1-099e-4200-8942-1c172da7d466",
        "colab": {
          "base_uri": "https://localhost:8080/",
          "height": 273
        }
      },
      "source": [
        "plt.plot(faturamento, color='b', alpha=0.9)\n",
        "plt.plot(fat_deflacionado, color='g', alpha=0.9)\n",
        "plt.legend(['Original', 'Deflacionado'])\n",
        "plt.yticks([0, 1000000, 2000000, 3000000])\n",
        "plt.xticks([])\n",
        "plt.title('')\n",
        "plt.ylabel('Valore em Milhões')\n",
        "plt.xlabel('Anos')\n",
        "sns.despine()"
      ],
      "execution_count": null,
      "outputs": [
        {
          "output_type": "display_data",
          "data": {
            "image/png": "[encoded data removed]",
            "text/plain": [
              "<Figure size 432x288 with 1 Axes>"
            ]
          },
          "metadata": {
            "tags": [],
            "needs_background": "light"
          }
        }
      ]
    },
    {
      "cell_type": "code",
      "metadata": {
        "id": "VppjuRLLbgYP",
        "outputId": "f1dde6a1-f1f4-4cb6-9298-02251edb30e9",
        "colab": {
          "base_uri": "https://localhost:8080/",
          "height": 34
        }
      },
      "source": [
        "\"\"\"\n",
        "Cálculo de evolução real do faturamento\n",
        "Definido o ano base para deflacionamento, fazemos o seguinte:\n",
        "* (valor_atual_deflacionado / valor base) * 100\n",
        "\"\"\"\n",
        "evolucao_real = [fat_deflacionado[k] / fat_deflacionado[0] * 100 for\n",
        "                k in range(0, len(anos))]\n",
        "\n",
        "evolucao_real"
      ],
      "execution_count": null,
      "outputs": [
        {
          "output_type": "execute_result",
          "data": {
            "text/plain": [
              "[100.0, 93.75, 100.0, 109.375, 104.16666666666667, 106.951871657754]"
            ]
          },
          "metadata": {
            "tags": []
          },
          "execution_count": 34
        }
      ]
    },
    {
      "cell_type": "code",
      "metadata": {
        "id": "PKWINz1npoYD",
        "outputId": "176e8fc1-2b81-4adc-ea2c-0e5f2d8c95b4",
        "colab": {
          "base_uri": "https://localhost:8080/",
          "height": 278
        }
      },
      "source": [
        "plt.plot(evolucao_real, color='orange', alpha=0.9)\n",
        "plt.plot([100 for k in range(0, len(anos))], color='gray', ls=':')\n",
        "plt.legend(['Evolução', '100%'])\n",
        "plt.ylim((50, 150))\n",
        "plt.yticks([])\n",
        "plt.xticks([])\n",
        "plt.title('')\n",
        "plt.title('Evolução real do faturamento')\n",
        "plt.ylabel('Evolução')\n",
        "plt.xlabel('Anos')\n",
        "sns.despine()"
      ],
      "execution_count": null,
      "outputs": [
        {
          "output_type": "display_data",
          "data": {
            "image/png": "[encoded data removed]",
            "text/plain": [
              "<Figure size 432x288 with 1 Axes>"
            ]
          },
          "metadata": {
            "tags": []
          }
        }
      ]
    },
    {
      "cell_type": "code",
      "metadata": {
        "id": "EEJbG2amqzHq",
        "outputId": "0d13c991-7e63-409c-f594-c1fe5793cd52",
        "colab": {
          "base_uri": "https://localhost:8080/",
          "height": 281
        }
      },
      "source": [
        "plt.bar(anos, height=faturamento, alpha=0.9)\n",
        "plt.bar(anos, fat_deflacionado, alpha=0.9)\n",
        "plt.legend(['Original', 'Deflacionado'])\n",
        "plt.yticks([0, 1000000, 2000000, 3000000])\n",
        "plt.title('Faturamento Original e Deflacionado')\n",
        "plt.ylabel('Valore em Milhões')\n",
        "sns.despine()"
      ],
      "execution_count": null,
      "outputs": [
        {
          "output_type": "display_data",
          "data": {
            "image/png": "[encoded data removed]",
            "text/plain": [
              "<Figure size 432x288 with 1 Axes>"
            ]
          },
          "metadata": {
            "tags": [],
            "needs_background": "light"
          }
        }
      ]
    },
    {
      "cell_type": "markdown",
      "metadata": {
        "id": "6G-7-wfePM1K"
      },
      "source": [
        "**Correlação e regressão**\n",
        "\n",
        "Referência: TOLEDO, Geraldo Luciano e OVALLE, Ivo Izidório (1985) Estatítisca Básica. São Paulo: Atlas\n",
        "\n",
        "Detalhes no capítulo 8 do livro\n"
      ]
    },
    {
      "cell_type": "markdown",
      "metadata": {
        "id": "o3f3t91FYdbW"
      },
      "source": [
        "Correlação linear simples\n",
        "* Relação entre variáveis X e Y através da disposição dos pontos (X, Y) em torno de uma reta\n",
        "* Faixa de valores -1 e 1"
      ]
    },
    {
      "cell_type": "code",
      "metadata": {
        "id": "6udr5huRPZJy"
      },
      "source": [
        "\"\"\"\n",
        "r = (XYX) / sqrt(SXX SYY)\n",
        "rXY = (\n",
        "  soma(XY) - (soma(X) * soma(Y)) / n)\n",
        "  /\n",
        "  sqrt(\n",
        "    abs(\n",
        "      soma(X ** 2)\n",
        "      -\n",
        "      (soma(X)) ** 2 / n\n",
        "      )\n",
        "    *\n",
        "    abs(\n",
        "      soma(Y ** 2)\n",
        "      -\n",
        "      (soma(Y)) ** 2 / n\n",
        "      )\n",
        "    )\n",
        "\n",
        "Faturamento - Valores nominais\n",
        "Ano  : Valor   : Índice de Preços\n",
        "1975 : 1600000 : 100\n",
        "1976 : 1800000 : 120\n",
        "1977 : 2400000 : 150\n",
        "1978 : 2800000 : 160\n",
        "1979 : 3000000 : 180\n",
        "1980 : 3200000 : 187\n",
        "\n",
        "\n",
        "Faturamento - Falores deflacionados com base em 100\n",
        "Ano  : Valor   : Índice de Preços\n",
        "1975 : 1600000 : 100\n",
        "1976 : 1500000 : 120\n",
        "1977 : 1600000 : 150\n",
        "1978 : 1750000 : 160\n",
        "1979 : 1666667 : 180\n",
        "1980 : 1711230 : 187\n",
        "\"\"\"\n",
        "faturamento = pd.Series([1600000,\n",
        "               1800000,\n",
        "               2400000,\n",
        "               2800000,\n",
        "               3000000,\n",
        "               3200000])\n",
        "\n",
        "indice_precos = [100, 120, 150, 160, 180, 187]\n",
        "\n",
        "fat_deflacionado = [(faturamento[k] / indice_precos[k]) * indice_precos[0] for\n",
        "    k in range(0, len(faturamento))]\n",
        "\n",
        "fat_deflacionado = pd.Series(fat_deflacionado)"
      ],
      "execution_count": null,
      "outputs": []
    },
    {
      "cell_type": "code",
      "metadata": {
        "id": "CtpcmdX7abiJ",
        "outputId": "bb36895c-0ece-4862-fb11-85469ec93356",
        "colab": {
          "base_uri": "https://localhost:8080/",
          "height": 52
        }
      },
      "source": [
        "#Calcular a correção com base função embutida de Seires da biblioteca Pandas\n",
        "print('Correlação entre faturamento e faturamento deflacionado:',\n",
        "      faturamento.corr(fat_deflacionado),\n",
        "      sep='\\n')"
      ],
      "execution_count": null,
      "outputs": [
        {
          "output_type": "stream",
          "text": [
            "Correlação entre faturamento e faturamento deflacionado:\n",
            "0.7938022410213701\n"
          ],
          "name": "stdout"
        }
      ]
    },
    {
      "cell_type": "code",
      "metadata": {
        "id": "jOmS7sBtaxMB",
        "outputId": "9100b27d-67bc-4577-905b-5a5af64eb797",
        "colab": {
          "base_uri": "https://localhost:8080/",
          "height": 268
        }
      },
      "source": [
        "plt.scatter(faturamento,\n",
        "            fat_deflacionado)\n",
        "plt.title('Dispersão de faturamento e faturamento deflacionado')\n",
        "plt.xticks([])\n",
        "plt.yticks([])\n",
        "sns.despine()"
      ],
      "execution_count": null,
      "outputs": [
        {
          "output_type": "display_data",
          "data": {
            "image/png": "[encoded data removed]",
            "text/plain": [
              "<Figure size 432x288 with 1 Axes>"
            ]
          },
          "metadata": {
            "tags": []
          }
        }
      ]
    },
    {
      "cell_type": "markdown",
      "metadata": {
        "id": "uiSQ8dEVfoae"
      },
      "source": [
        "Tipos de correlação linear:\n",
        "* Correlação positiva: quando valores crescentes de X correspondem a valores crescentes de Y\n",
        "* Perfeita positiva: quando além de crescentes, os pontos (X, Y) estão perfeitamente alinhados, rXY = 1\n",
        "* Correlação negativa: quando valores crescentes de Y correspondem a valores decrescentes de Y\n",
        "* Perfeita negativa: quando além de decrescentes, os pontos (X, Y) estão perfeitamente alinhados, rXY = -1\n",
        "* Correlação nula: quando não houver relação entre X e Y\n",
        "* ***Correlação espúria***: quando variáveis X e Y POSSUÍREM CORRELAÇÃO, mesmo sendo INDEPENDENTES entre si."
      ]
    },
    {
      "cell_type": "code",
      "metadata": {
        "id": "KD7yb_j8b6q6",
        "outputId": "9404a780-0c74-45d6-aa1b-74fc637722cd",
        "colab": {
          "base_uri": "https://localhost:8080/",
          "height": 363
        }
      },
      "source": [
        "\"\"\"\n",
        "Exemplo\n",
        "Dados socio-econômicos de famílias\n",
        "\"\"\"\n",
        "colunas = ['FAMILIA', 'RENDA', 'POUPANCA', 'FILHOS', 'ANOS_ESTUDO']\n",
        "\n",
        "familias = pd.DataFrame({'d1': list('ABCDEFGHIJ'),\n",
        "                        'd2': [10, 15, 12, 70, 80,\n",
        "                               100, 20, 30, 10, 60],\n",
        "                        'd3': [4, 7, 5, 20, 20,\n",
        "                               30, 8, 8, 3, 15],\n",
        "                        'd4': [8, 6, 5, 1, 2,\n",
        "                               2, 3, 2, 6, 1],\n",
        "                        'd5': [3, 4, 5, 12, 16,\n",
        "                               18, 8, 8, 4, 8]\n",
        "                         })\n",
        "familias.columns = colunas\n",
        "\n",
        "familias"
      ],
      "execution_count": null,
      "outputs": [
        {
          "output_type": "execute_result",
          "data": {
            "text/html": [
              "<div>\n",
              "<style scoped>\n",
              "    .dataframe tbody tr th:only-of-type {\n",
              "        vertical-align: middle;\n",
              "    }\n",
              "\n",
              "    .dataframe tbody tr th {\n",
              "        vertical-align: top;\n",
              "    }\n",
              "\n",
              "    .dataframe thead th {\n",
              "        text-align: right;\n",
              "    }\n",
              "</style>\n",
              "<table border=\"1\" class=\"dataframe\">\n",
              "  <thead>\n",
              "    <tr style=\"text-align: right;\">\n",
              "      <th></th>\n",
              "      <th>FAMILIA</th>\n",
              "      <th>RENDA</th>\n",
              "      <th>POUPANCA</th>\n",
              "      <th>FILHOS</th>\n",
              "      <th>ANOS_ESTUDO</th>\n",
              "    </tr>\n",
              "  </thead>\n",
              "  <tbody>\n",
              "    <tr>\n",
              "      <th>0</th>\n",
              "      <td>A</td>\n",
              "      <td>10</td>\n",
              "      <td>4</td>\n",
              "      <td>8</td>\n",
              "      <td>3</td>\n",
              "    </tr>\n",
              "    <tr>\n",
              "      <th>1</th>\n",
              "      <td>B</td>\n",
              "      <td>15</td>\n",
              "      <td>7</td>\n",
              "      <td>6</td>\n",
              "      <td>4</td>\n",
              "    </tr>\n",
              "    <tr>\n",
              "      <th>2</th>\n",
              "      <td>C</td>\n",
              "      <td>12</td>\n",
              "      <td>5</td>\n",
              "      <td>5</td>\n",
              "      <td>5</td>\n",
              "    </tr>\n",
              "    <tr>\n",
              "      <th>3</th>\n",
              "      <td>D</td>\n",
              "      <td>70</td>\n",
              "      <td>20</td>\n",
              "      <td>1</td>\n",
              "      <td>12</td>\n",
              "    </tr>\n",
              "    <tr>\n",
              "      <th>4</th>\n",
              "      <td>E</td>\n",
              "      <td>80</td>\n",
              "      <td>20</td>\n",
              "      <td>2</td>\n",
              "      <td>16</td>\n",
              "    </tr>\n",
              "    <tr>\n",
              "      <th>5</th>\n",
              "      <td>F</td>\n",
              "      <td>100</td>\n",
              "      <td>30</td>\n",
              "      <td>2</td>\n",
              "      <td>18</td>\n",
              "    </tr>\n",
              "    <tr>\n",
              "      <th>6</th>\n",
              "      <td>G</td>\n",
              "      <td>20</td>\n",
              "      <td>8</td>\n",
              "      <td>3</td>\n",
              "      <td>8</td>\n",
              "    </tr>\n",
              "    <tr>\n",
              "      <th>7</th>\n",
              "      <td>H</td>\n",
              "      <td>30</td>\n",
              "      <td>8</td>\n",
              "      <td>2</td>\n",
              "      <td>8</td>\n",
              "    </tr>\n",
              "    <tr>\n",
              "      <th>8</th>\n",
              "      <td>I</td>\n",
              "      <td>10</td>\n",
              "      <td>3</td>\n",
              "      <td>6</td>\n",
              "      <td>4</td>\n",
              "    </tr>\n",
              "    <tr>\n",
              "      <th>9</th>\n",
              "      <td>J</td>\n",
              "      <td>60</td>\n",
              "      <td>15</td>\n",
              "      <td>1</td>\n",
              "      <td>8</td>\n",
              "    </tr>\n",
              "  </tbody>\n",
              "</table>\n",
              "</div>"
            ],
            "text/plain": [
              "  FAMILIA  RENDA  POUPANCA  FILHOS  ANOS_ESTUDO\n",
              "0       A     10         4       8            3\n",
              "1       B     15         7       6            4\n",
              "2       C     12         5       5            5\n",
              "3       D     70        20       1           12\n",
              "4       E     80        20       2           16\n",
              "5       F    100        30       2           18\n",
              "6       G     20         8       3            8\n",
              "7       H     30         8       2            8\n",
              "8       I     10         3       6            4\n",
              "9       J     60        15       1            8"
            ]
          },
          "metadata": {
            "tags": []
          },
          "execution_count": 41
        }
      ]
    },
    {
      "cell_type": "code",
      "metadata": {
        "id": "7100rF17nbgu",
        "outputId": "9fb0aa2a-aec8-4af6-f769-b81a51cf3cb7",
        "colab": {
          "base_uri": "https://localhost:8080/",
          "height": 300
        }
      },
      "source": [
        "familias.describe()"
      ],
      "execution_count": null,
      "outputs": [
        {
          "output_type": "execute_result",
          "data": {
            "text/html": [
              "<div>\n",
              "<style scoped>\n",
              "    .dataframe tbody tr th:only-of-type {\n",
              "        vertical-align: middle;\n",
              "    }\n",
              "\n",
              "    .dataframe tbody tr th {\n",
              "        vertical-align: top;\n",
              "    }\n",
              "\n",
              "    .dataframe thead th {\n",
              "        text-align: right;\n",
              "    }\n",
              "</style>\n",
              "<table border=\"1\" class=\"dataframe\">\n",
              "  <thead>\n",
              "    <tr style=\"text-align: right;\">\n",
              "      <th></th>\n",
              "      <th>RENDA</th>\n",
              "      <th>POUPANCA</th>\n",
              "      <th>FILHOS</th>\n",
              "      <th>ANOS_ESTUDO</th>\n",
              "    </tr>\n",
              "  </thead>\n",
              "  <tbody>\n",
              "    <tr>\n",
              "      <th>count</th>\n",
              "      <td>10.000000</td>\n",
              "      <td>10.000000</td>\n",
              "      <td>10.000000</td>\n",
              "      <td>10.000000</td>\n",
              "    </tr>\n",
              "    <tr>\n",
              "      <th>mean</th>\n",
              "      <td>40.700000</td>\n",
              "      <td>12.000000</td>\n",
              "      <td>3.600000</td>\n",
              "      <td>8.600000</td>\n",
              "    </tr>\n",
              "    <tr>\n",
              "      <th>std</th>\n",
              "      <td>33.671782</td>\n",
              "      <td>8.894443</td>\n",
              "      <td>2.458545</td>\n",
              "      <td>5.189733</td>\n",
              "    </tr>\n",
              "    <tr>\n",
              "      <th>min</th>\n",
              "      <td>10.000000</td>\n",
              "      <td>3.000000</td>\n",
              "      <td>1.000000</td>\n",
              "      <td>3.000000</td>\n",
              "    </tr>\n",
              "    <tr>\n",
              "      <th>25%</th>\n",
              "      <td>12.750000</td>\n",
              "      <td>5.500000</td>\n",
              "      <td>2.000000</td>\n",
              "      <td>4.250000</td>\n",
              "    </tr>\n",
              "    <tr>\n",
              "      <th>50%</th>\n",
              "      <td>25.000000</td>\n",
              "      <td>8.000000</td>\n",
              "      <td>2.500000</td>\n",
              "      <td>8.000000</td>\n",
              "    </tr>\n",
              "    <tr>\n",
              "      <th>75%</th>\n",
              "      <td>67.500000</td>\n",
              "      <td>18.750000</td>\n",
              "      <td>5.750000</td>\n",
              "      <td>11.000000</td>\n",
              "    </tr>\n",
              "    <tr>\n",
              "      <th>max</th>\n",
              "      <td>100.000000</td>\n",
              "      <td>30.000000</td>\n",
              "      <td>8.000000</td>\n",
              "      <td>18.000000</td>\n",
              "    </tr>\n",
              "  </tbody>\n",
              "</table>\n",
              "</div>"
            ],
            "text/plain": [
              "            RENDA   POUPANCA     FILHOS  ANOS_ESTUDO\n",
              "count   10.000000  10.000000  10.000000    10.000000\n",
              "mean    40.700000  12.000000   3.600000     8.600000\n",
              "std     33.671782   8.894443   2.458545     5.189733\n",
              "min     10.000000   3.000000   1.000000     3.000000\n",
              "25%     12.750000   5.500000   2.000000     4.250000\n",
              "50%     25.000000   8.000000   2.500000     8.000000\n",
              "75%     67.500000  18.750000   5.750000    11.000000\n",
              "max    100.000000  30.000000   8.000000    18.000000"
            ]
          },
          "metadata": {
            "tags": []
          },
          "execution_count": 42
        }
      ]
    },
    {
      "cell_type": "code",
      "metadata": {
        "id": "3UzdJZgjilY5",
        "outputId": "f5f9faf3-2970-45f1-f41d-2b3189920c05",
        "colab": {
          "base_uri": "https://localhost:8080/",
          "height": 34
        }
      },
      "source": [
        "#Cálculo da correlação\n",
        "corr1 = familias['RENDA'].corr(familias['POUPANCA'])\n",
        "corr2 = familias['RENDA'].corr(familias['FILHOS'])\n",
        "corr3 = familias['RENDA'].corr(familias['ANOS_ESTUDO'])\n",
        "\n",
        "print(corr1, corr2, corr3)"
      ],
      "execution_count": null,
      "outputs": [
        {
          "output_type": "stream",
          "text": [
            "0.9835181477979665 -0.7586043877252923 0.947271146722697\n"
          ],
          "name": "stdout"
        }
      ]
    },
    {
      "cell_type": "code",
      "metadata": {
        "id": "-eUooLeqmeoc",
        "outputId": "e20dea95-4833-49c2-ac6c-19b07d738c30",
        "colab": {
          "base_uri": "https://localhost:8080/",
          "height": 268
        }
      },
      "source": [
        "#Demonstração gráfica\n",
        "plt.scatter(familias['RENDA'],\n",
        "            familias['POUPANCA'])\n",
        "plt.title('Dispersão entre Renda Familiar e Poupança')\n",
        "plt.xticks([])\n",
        "plt.yticks([])\n",
        "sns.despine()"
      ],
      "execution_count": null,
      "outputs": [
        {
          "output_type": "display_data",
          "data": {
            "image/png": "[encoded data removed]",
            "text/plain": [
              "<Figure size 432x288 with 1 Axes>"
            ]
          },
          "metadata": {
            "tags": []
          }
        }
      ]
    },
    {
      "cell_type": "code",
      "metadata": {
        "id": "i_xviYSum3WR",
        "outputId": "e4c7dd00-5e70-48b9-98fa-ec98e5aaa097",
        "colab": {
          "base_uri": "https://localhost:8080/",
          "height": 265
        }
      },
      "source": [
        "\"\"\"\n",
        "Análise dos dados de exemplo em um visual de dashboard\n",
        "\"\"\"\n",
        "#Plotando um gráfico na primeira área do painel\n",
        "#Criando área do painel\n",
        "fig, axes = plt.subplots(2, 2)\n",
        "\n",
        "#Plotando primeiro gráfico\n",
        "axes[0, 0].scatter(familias['RENDA'],\n",
        "            familias['POUPANCA'])\n",
        "axes[0, 0].set_title('Renda X Poupança', fontsize='small')\n",
        "axes[0, 0].set_xticks([])\n",
        "axes[0, 0].set_yticks([])\n",
        "\n",
        "#Plotando segundo gráfico\n",
        "axes[0, 1].scatter(familias['POUPANCA'], familias['ANOS_ESTUDO'],\n",
        "                   color='orange')\n",
        "axes[0, 1].set_title('Poupança X Anos Estudo', fontsize='small')\n",
        "axes[0, 1].set_xticks([])\n",
        "axes[0, 1].set_yticks([])\n",
        "\n",
        "#Plotando terceiro gráfico\n",
        "axes[1, 0].scatter(familias['FILHOS'], familias['POUPANCA'],\n",
        "                   color='r', alpha=0.5)\n",
        "axes[1, 0].set_title('Filhos X Poupança', fontsize='small')\n",
        "axes[1, 0].set_xticks([])\n",
        "axes[1, 0].set_yticks([])\n",
        "\n",
        "#Plotando quarto gráfico\n",
        "axes[1, 1].scatter(familias['RENDA'], familias['ANOS_ESTUDO'],\n",
        "                   color='g', alpha=0.7)\n",
        "axes[1, 1].set_title('Renda X Anos Estudo', fontsize='small')\n",
        "axes[1, 1].set_xticks([])\n",
        "axes[1, 1].set_yticks([])\n",
        "\n",
        "#Ajutes gerais\n",
        "sns.despine()\n",
        "plt.subplots_adjust(hspace=0.25)"
      ],
      "execution_count": null,
      "outputs": [
        {
          "output_type": "display_data",
          "data": {
            "image/png": "[encoded data removed]",
            "text/plain": [
              "<Figure size 432x288 with 4 Axes>"
            ]
          },
          "metadata": {
            "tags": []
          }
        }
      ]
    },
    {
      "cell_type": "markdown",
      "metadata": {
        "id": "VmOKaiShrDuo"
      },
      "source": [
        "**Correlação Ordinal** (Coeficiente de Spearman)\n",
        "\n",
        "Considera as posições que valores das variáveis ocupam qunado ordenados na forma crescente ou decrescente"
      ]
    },
    {
      "cell_type": "code",
      "metadata": {
        "id": "rYSvLj62rSwT",
        "outputId": "5288255a-f6c0-4c4b-be40-46a5432b1421",
        "colab": {
          "base_uri": "https://localhost:8080/",
          "height": 34
        }
      },
      "source": [
        "\"\"\"\n",
        "Coeficiente de Spearman\n",
        "rs = 1 - ((6 * soma(dj ** 2)) / (n(n ** 2 - 1)))\n",
        "Onde:\n",
        "dj = diferença entre um i-ésimo par\n",
        "n = observações\n",
        "\"\"\"\n",
        "#Cálculo a partir da função da biblioteca scipy módulo stats\n",
        "spearmanr(familias['RENDA'], familias['POUPANCA'])"
      ],
      "execution_count": null,
      "outputs": [
        {
          "output_type": "execute_result",
          "data": {
            "text/plain": [
              "SpearmanrResult(correlation=0.990830321206772, pvalue=3.059198730818556e-08)"
            ]
          },
          "metadata": {
            "tags": []
          },
          "execution_count": 46
        }
      ]
    },
    {
      "cell_type": "code",
      "metadata": {
        "id": "rbcNpx-ns1p_",
        "outputId": "f205a845-38dc-4ea3-e7b1-04a0e3efa89c",
        "colab": {
          "base_uri": "https://localhost:8080/",
          "height": 34
        }
      },
      "source": [
        "s = spearmanr(familias['RENDA'], familias['POUPANCA'])[0]\n",
        "s"
      ],
      "execution_count": null,
      "outputs": [
        {
          "output_type": "execute_result",
          "data": {
            "text/plain": [
              "0.990830321206772"
            ]
          },
          "metadata": {
            "tags": []
          },
          "execution_count": 47
        }
      ]
    },
    {
      "cell_type": "code",
      "metadata": {
        "id": "7ysUb0kGtein",
        "outputId": "b046a14d-fc6d-4091-80c1-a1f081f556dd",
        "colab": {
          "base_uri": "https://localhost:8080/",
          "height": 426
        }
      },
      "source": [
        "\"\"\"\n",
        "Exemplo\n",
        "Classificação em uma avaliação e QI\n",
        "\"\"\"\n",
        "avaliacao = pd.DataFrame({'NOME': list('ABCDEFGHIJKL'),\n",
        "                        'RANK': [5, 2, 6, 1, 8, 9, 7, 3, 11, 10, 12, 4],\n",
        "                        'QI': [100, 90, 80, 130, 100,\n",
        "                               100, 110, 120, 90, 120, 110, 140],\n",
        "                         })\n",
        "\n",
        "avaliacao"
      ],
      "execution_count": null,
      "outputs": [
        {
          "output_type": "execute_result",
          "data": {
            "text/html": [
              "<div>\n",
              "<style scoped>\n",
              "    .dataframe tbody tr th:only-of-type {\n",
              "        vertical-align: middle;\n",
              "    }\n",
              "\n",
              "    .dataframe tbody tr th {\n",
              "        vertical-align: top;\n",
              "    }\n",
              "\n",
              "    .dataframe thead th {\n",
              "        text-align: right;\n",
              "    }\n",
              "</style>\n",
              "<table border=\"1\" class=\"dataframe\">\n",
              "  <thead>\n",
              "    <tr style=\"text-align: right;\">\n",
              "      <th></th>\n",
              "      <th>NOME</th>\n",
              "      <th>RANK</th>\n",
              "      <th>QI</th>\n",
              "    </tr>\n",
              "  </thead>\n",
              "  <tbody>\n",
              "    <tr>\n",
              "      <th>0</th>\n",
              "      <td>A</td>\n",
              "      <td>5</td>\n",
              "      <td>100</td>\n",
              "    </tr>\n",
              "    <tr>\n",
              "      <th>1</th>\n",
              "      <td>B</td>\n",
              "      <td>2</td>\n",
              "      <td>90</td>\n",
              "    </tr>\n",
              "    <tr>\n",
              "      <th>2</th>\n",
              "      <td>C</td>\n",
              "      <td>6</td>\n",
              "      <td>80</td>\n",
              "    </tr>\n",
              "    <tr>\n",
              "      <th>3</th>\n",
              "      <td>D</td>\n",
              "      <td>1</td>\n",
              "      <td>130</td>\n",
              "    </tr>\n",
              "    <tr>\n",
              "      <th>4</th>\n",
              "      <td>E</td>\n",
              "      <td>8</td>\n",
              "      <td>100</td>\n",
              "    </tr>\n",
              "    <tr>\n",
              "      <th>5</th>\n",
              "      <td>F</td>\n",
              "      <td>9</td>\n",
              "      <td>100</td>\n",
              "    </tr>\n",
              "    <tr>\n",
              "      <th>6</th>\n",
              "      <td>G</td>\n",
              "      <td>7</td>\n",
              "      <td>110</td>\n",
              "    </tr>\n",
              "    <tr>\n",
              "      <th>7</th>\n",
              "      <td>H</td>\n",
              "      <td>3</td>\n",
              "      <td>120</td>\n",
              "    </tr>\n",
              "    <tr>\n",
              "      <th>8</th>\n",
              "      <td>I</td>\n",
              "      <td>11</td>\n",
              "      <td>90</td>\n",
              "    </tr>\n",
              "    <tr>\n",
              "      <th>9</th>\n",
              "      <td>J</td>\n",
              "      <td>10</td>\n",
              "      <td>120</td>\n",
              "    </tr>\n",
              "    <tr>\n",
              "      <th>10</th>\n",
              "      <td>K</td>\n",
              "      <td>12</td>\n",
              "      <td>110</td>\n",
              "    </tr>\n",
              "    <tr>\n",
              "      <th>11</th>\n",
              "      <td>L</td>\n",
              "      <td>4</td>\n",
              "      <td>140</td>\n",
              "    </tr>\n",
              "  </tbody>\n",
              "</table>\n",
              "</div>"
            ],
            "text/plain": [
              "   NOME  RANK   QI\n",
              "0     A     5  100\n",
              "1     B     2   90\n",
              "2     C     6   80\n",
              "3     D     1  130\n",
              "4     E     8  100\n",
              "5     F     9  100\n",
              "6     G     7  110\n",
              "7     H     3  120\n",
              "8     I    11   90\n",
              "9     J    10  120\n",
              "10    K    12  110\n",
              "11    L     4  140"
            ]
          },
          "metadata": {
            "tags": []
          },
          "execution_count": 48
        }
      ]
    },
    {
      "cell_type": "code",
      "metadata": {
        "id": "UyMY2R2quDwT",
        "outputId": "519696b9-7487-4042-d8e1-ae3b69df16e0",
        "colab": {
          "base_uri": "https://localhost:8080/",
          "height": 34
        }
      },
      "source": [
        "spearmanr(avaliacao['RANK'], avaliacao['QI'])"
      ],
      "execution_count": null,
      "outputs": [
        {
          "output_type": "execute_result",
          "data": {
            "text/plain": [
              "SpearmanrResult(correlation=-0.23718634595814242, pvalue=0.4579244330327443)"
            ]
          },
          "metadata": {
            "tags": []
          },
          "execution_count": 49
        }
      ]
    },
    {
      "cell_type": "code",
      "metadata": {
        "id": "OTFyqrSiug71",
        "outputId": "37220df0-39dd-4b5c-a5bd-165bcaba631a",
        "colab": {
          "base_uri": "https://localhost:8080/",
          "height": 267
        }
      },
      "source": [
        "#Demonstração gráfica\n",
        "plt.scatter(avaliacao['RANK'], avaliacao['QI'])\n",
        "plt.title('Dispersão entre Rank e QI')\n",
        "plt.xticks([])\n",
        "plt.yticks([])\n",
        "sns.despine()"
      ],
      "execution_count": null,
      "outputs": [
        {
          "output_type": "display_data",
          "data": {
            "image/png": "[encoded data removed]",
            "text/plain": [
              "<Figure size 432x288 with 1 Axes>"
            ]
          },
          "metadata": {
            "tags": []
          }
        }
      ]
    },
    {
      "cell_type": "code",
      "metadata": {
        "id": "OY1ZMKo-unZ9",
        "outputId": "6c83b919-7153-4692-a584-999539baa3bd",
        "colab": {
          "base_uri": "https://localhost:8080/",
          "height": 426
        }
      },
      "source": [
        "\"\"\"\n",
        "Exemplo\n",
        "Inflação e custo importação de petróleo\n",
        "\"\"\"\n",
        "datas = pd.date_range('1978-04-01', periods=12, freq='BM')\n",
        "petroleo = pd.DataFrame({'DATA': datas,\n",
        "                        'INFLACAO': [100., 103.2, 107.4, 111.3, 114., 116.3,\n",
        "                                     119.3, 122.2, 124.2, 129.9, 135.5, 141.6],\n",
        "                        'CUSTO_PETROLEO': [19656,\n",
        "                                           19391,\n",
        "                                           20262,\n",
        "                                           20000,\n",
        "                                           20149,\n",
        "                                           20581,\n",
        "                                           20937,\n",
        "                                           21273,\n",
        "                                           22517,\n",
        "                                           20560,\n",
        "                                           21236,\n",
        "                                           20471]})\n",
        "\n",
        "petroleo"
      ],
      "execution_count": null,
      "outputs": [
        {
          "output_type": "execute_result",
          "data": {
            "text/html": [
              "<div>\n",
              "<style scoped>\n",
              "    .dataframe tbody tr th:only-of-type {\n",
              "        vertical-align: middle;\n",
              "    }\n",
              "\n",
              "    .dataframe tbody tr th {\n",
              "        vertical-align: top;\n",
              "    }\n",
              "\n",
              "    .dataframe thead th {\n",
              "        text-align: right;\n",
              "    }\n",
              "</style>\n",
              "<table border=\"1\" class=\"dataframe\">\n",
              "  <thead>\n",
              "    <tr style=\"text-align: right;\">\n",
              "      <th></th>\n",
              "      <th>DATA</th>\n",
              "      <th>INFLACAO</th>\n",
              "      <th>CUSTO_PETROLEO</th>\n",
              "    </tr>\n",
              "  </thead>\n",
              "  <tbody>\n",
              "    <tr>\n",
              "      <th>0</th>\n",
              "      <td>1978-04-28</td>\n",
              "      <td>100.0</td>\n",
              "      <td>19656</td>\n",
              "    </tr>\n",
              "    <tr>\n",
              "      <th>1</th>\n",
              "      <td>1978-05-31</td>\n",
              "      <td>103.2</td>\n",
              "      <td>19391</td>\n",
              "    </tr>\n",
              "    <tr>\n",
              "      <th>2</th>\n",
              "      <td>1978-06-30</td>\n",
              "      <td>107.4</td>\n",
              "      <td>20262</td>\n",
              "    </tr>\n",
              "    <tr>\n",
              "      <th>3</th>\n",
              "      <td>1978-07-31</td>\n",
              "      <td>111.3</td>\n",
              "      <td>20000</td>\n",
              "    </tr>\n",
              "    <tr>\n",
              "      <th>4</th>\n",
              "      <td>1978-08-31</td>\n",
              "      <td>114.0</td>\n",
              "      <td>20149</td>\n",
              "    </tr>\n",
              "    <tr>\n",
              "      <th>5</th>\n",
              "      <td>1978-09-29</td>\n",
              "      <td>116.3</td>\n",
              "      <td>20581</td>\n",
              "    </tr>\n",
              "    <tr>\n",
              "      <th>6</th>\n",
              "      <td>1978-10-31</td>\n",
              "      <td>119.3</td>\n",
              "      <td>20937</td>\n",
              "    </tr>\n",
              "    <tr>\n",
              "      <th>7</th>\n",
              "      <td>1978-11-30</td>\n",
              "      <td>122.2</td>\n",
              "      <td>21273</td>\n",
              "    </tr>\n",
              "    <tr>\n",
              "      <th>8</th>\n",
              "      <td>1978-12-29</td>\n",
              "      <td>124.2</td>\n",
              "      <td>22517</td>\n",
              "    </tr>\n",
              "    <tr>\n",
              "      <th>9</th>\n",
              "      <td>1979-01-31</td>\n",
              "      <td>129.9</td>\n",
              "      <td>20560</td>\n",
              "    </tr>\n",
              "    <tr>\n",
              "      <th>10</th>\n",
              "      <td>1979-02-28</td>\n",
              "      <td>135.5</td>\n",
              "      <td>21236</td>\n",
              "    </tr>\n",
              "    <tr>\n",
              "      <th>11</th>\n",
              "      <td>1979-03-30</td>\n",
              "      <td>141.6</td>\n",
              "      <td>20471</td>\n",
              "    </tr>\n",
              "  </tbody>\n",
              "</table>\n",
              "</div>"
            ],
            "text/plain": [
              "         DATA  INFLACAO  CUSTO_PETROLEO\n",
              "0  1978-04-28     100.0           19656\n",
              "1  1978-05-31     103.2           19391\n",
              "2  1978-06-30     107.4           20262\n",
              "3  1978-07-31     111.3           20000\n",
              "4  1978-08-31     114.0           20149\n",
              "5  1978-09-29     116.3           20581\n",
              "6  1978-10-31     119.3           20937\n",
              "7  1978-11-30     122.2           21273\n",
              "8  1978-12-29     124.2           22517\n",
              "9  1979-01-31     129.9           20560\n",
              "10 1979-02-28     135.5           21236\n",
              "11 1979-03-30     141.6           20471"
            ]
          },
          "metadata": {
            "tags": []
          },
          "execution_count": 2
        }
      ]
    },
    {
      "cell_type": "code",
      "metadata": {
        "id": "PJ1eJPIkvbtE",
        "outputId": "3cfdebae-47c5-4d9c-e984-5884832c61a6",
        "colab": {
          "base_uri": "https://localhost:8080/",
          "height": 34
        }
      },
      "source": [
        "len(datas)"
      ],
      "execution_count": null,
      "outputs": [
        {
          "output_type": "execute_result",
          "data": {
            "text/plain": [
              "12"
            ]
          },
          "metadata": {
            "tags": []
          },
          "execution_count": 3
        }
      ]
    },
    {
      "cell_type": "code",
      "metadata": {
        "id": "UutjvZgpvjHB",
        "outputId": "540290a1-bd66-461d-e505-cfe40df00d17",
        "colab": {
          "base_uri": "https://localhost:8080/",
          "height": 69
        }
      },
      "source": [
        "print('Coeficiente de correlação (Pearson | Spearman):',\n",
        "      petroleo['INFLACAO'].corr(petroleo['CUSTO_PETROLEO']),\n",
        "      spearmanr(petroleo['INFLACAO'], petroleo['CUSTO_PETROLEO'])[0],\n",
        "      sep='\\n')"
      ],
      "execution_count": null,
      "outputs": [
        {
          "output_type": "stream",
          "text": [
            "Coeficiente de correlação (Pearson | Spearman):\n",
            "0.5751259466506365\n",
            "0.7202797202797203\n"
          ],
          "name": "stdout"
        }
      ]
    },
    {
      "cell_type": "code",
      "metadata": {
        "id": "I0aR3CI0xZ_w",
        "outputId": "bfde9028-9d7a-4e9d-b193-59cd6fb15842",
        "colab": {
          "base_uri": "https://localhost:8080/",
          "height": 268
        }
      },
      "source": [
        "#Demonstração gráfica\n",
        "plt.scatter(petroleo['INFLACAO'], petroleo['CUSTO_PETROLEO'])\n",
        "plt.title('Dispersão entre Inflação e Custo de Importação de Petróleo')\n",
        "plt.xticks([])\n",
        "plt.yticks([])\n",
        "sns.despine()"
      ],
      "execution_count": null,
      "outputs": [
        {
          "output_type": "display_data",
          "data": {
            "image/png": "[encoded data removed]",
            "text/plain": [
              "<Figure size 432x288 with 1 Axes>"
            ]
          },
          "metadata": {
            "tags": []
          }
        }
      ]
    },
    {
      "cell_type": "code",
      "metadata": {
        "id": "51ZSZIQaxn4D",
        "outputId": "88cfa35a-673b-48ee-e42e-9a5f1e1557e1",
        "colab": {
          "base_uri": "https://localhost:8080/",
          "height": 252
        }
      },
      "source": [
        "#Distribuição dos preços e da inflação\n",
        "plt.hist(petroleo['INFLACAO'])\n",
        "#plt.title('Dispersão entre Inflação e Custo de Importação de Petróleo')\n",
        "plt.xticks([])\n",
        "plt.yticks([])\n",
        "sns.despine()"
      ],
      "execution_count": null,
      "outputs": [
        {
          "output_type": "display_data",
          "data": {
            "image/png": "[encoded data removed]",
            "text/plain": [
              "<Figure size 432x288 with 1 Axes>"
            ]
          },
          "metadata": {
            "tags": []
          }
        }
      ]
    },
    {
      "cell_type": "markdown",
      "metadata": {
        "id": "fTtRmrE6Lp8K"
      },
      "source": [
        "***Regressão Linear Simples***\n",
        "\n",
        "Descreve através de um modelo matemático a relação entre duas variáveis (x, Y).\n",
        "\n",
        "Y = f(x)\n",
        "\n",
        "Onde:\n",
        "* Y => Variável explicada (variável aleatória)\n",
        "* x => Variável explicada\n",
        "\n",
        "Considerando que Y pode receber influências de outras variáveis, a relação direta de x e y pode não explicar todos os fenômenos, por isso a fórmula ajuda é: Y = f(x) + e\n",
        "\n",
        "Onde:\n",
        "* e => Capta as influências sobre Y não devidas a x."
      ]
    },
    {
      "cell_type": "code",
      "metadata": {
        "id": "3YoRV-GX67sZ",
        "outputId": "dcceb8db-8ba6-443a-bfe7-449b4696557d",
        "colab": {
          "base_uri": "https://localhost:8080/",
          "height": 34
        }
      },
      "source": [
        "#Fonte complementar de estudo:\n",
        "#https://sigmoidal.ai/como-implementar-regressao-linear-com-python/\n",
        "\n",
        "x = np.array(petroleo['INFLACAO'])\n",
        "y = np.array(petroleo['CUSTO_PETROLEO'])\n",
        "\n",
        "# criar modelo linear e otimizar\n",
        "lm_model = LinearRegression(normalize=True) #Verificar diferença sem normalizar\n",
        "lm_model.fit(x.reshape(-1, 1), y)"
      ],
      "execution_count": null,
      "outputs": [
        {
          "output_type": "execute_result",
          "data": {
            "text/plain": [
              "LinearRegression(copy_X=True, fit_intercept=True, n_jobs=None, normalize=True)"
            ]
          },
          "metadata": {
            "tags": []
          },
          "execution_count": 92
        }
      ]
    },
    {
      "cell_type": "code",
      "metadata": {
        "id": "R-V9Zcu67Iwq"
      },
      "source": [
        "\"\"\"\n",
        "Cálculo da reta de ajustamento\n",
        "Ŷ = a + bX\n",
        "Onde:\n",
        "a e b: Parâmetros do modelo\n",
        "a => Ponto onde a reta ajustada corta o eixo Y\n",
        "b => Tangente do ângulo que a reta forma com uma paralelo do eixo X (inclinação)\n",
        "\"\"\"\n",
        "# extrair coeficientes\n",
        "slope = lm_model.coef_\n",
        "intercept = lm_model.intercept_"
      ],
      "execution_count": null,
      "outputs": []
    },
    {
      "cell_type": "code",
      "metadata": {
        "id": "rE8Z7uyG8Y0y",
        "outputId": "1f02ac9b-a447-400e-8cd3-f8f03871e723",
        "colab": {
          "base_uri": "https://localhost:8080/",
          "height": 69
        }
      },
      "source": [
        "# imprimir os valores encontrados para os parâmetros\n",
        "print(f'a - interseção: \\t{format(intercept)}')\n",
        "print(f'b - inclinação: \\t{format(slope[0])}')\n",
        "print(f'Equação: \\t\\tŶ = {intercept} + {slope[0]} * X')"
      ],
      "execution_count": null,
      "outputs": [
        {
          "output_type": "stream",
          "text": [
            "a - interseção: \t16090.52693147085\n",
            "b - inclinação: \t37.859973908589936\n",
            "Equação: \t\tŶ = 16090.52693147085 + 37.859973908589936 * X\n"
          ],
          "name": "stdout"
        }
      ]
    },
    {
      "cell_type": "code",
      "metadata": {
        "id": "WB9hmVWa9iRM",
        "outputId": "266e083d-2a75-4458-e49d-b4b7fd810f35",
        "colab": {
          "base_uri": "https://localhost:8080/",
          "height": 268
        }
      },
      "source": [
        "# plotar pontos e retas com parâmetros otimizados\n",
        "plt.scatter(x, y, s=3)\n",
        "plt.plot(x, (x * slope + intercept), color='r')\n",
        "plt.legend(['Dispersão dos dados', 'Reta de Ajustamento'])\n",
        "plt.title(\n",
        "    'Regressão Linear Simples: Inflação e Custo de Importação do Petróleo')\n",
        "plt.xticks([])\n",
        "plt.yticks([])\n",
        "sns.despine()"
      ],
      "execution_count": null,
      "outputs": [
        {
          "output_type": "display_data",
          "data": {
            "image/png": "[encoded data removed]",
            "text/plain": [
              "<Figure size 432x288 with 1 Axes>"
            ]
          },
          "metadata": {
            "tags": []
          }
        }
      ]
    },
    {
      "cell_type": "code",
      "metadata": {
        "id": "c6gI-cpm9moL",
        "outputId": "fde8a123-92e9-4ee9-c381-897c0ebefbdd",
        "colab": {
          "base_uri": "https://localhost:8080/",
          "height": 363
        }
      },
      "source": [
        "\"\"\"\n",
        "Exemplo\n",
        "Produção de leite em relação com preciptação pluviométrica\n",
        "\"\"\"\n",
        "anos = pd.date_range('2010-12-31', periods=10, freq='Y')\n",
        "leite = pd.DataFrame({'ANO': anos,\n",
        "                      'PROD_LEITE': [26, 25, 31, 29, 27, 31, 32, 28, 30, 30],\n",
        "                      'IND_PLUVIO': [23, 21, 28, 27, 23, 28, 27, 22, 26, 25]})\n",
        "leite"
      ],
      "execution_count": null,
      "outputs": [
        {
          "output_type": "execute_result",
          "data": {
            "text/html": [
              "<div>\n",
              "<style scoped>\n",
              "    .dataframe tbody tr th:only-of-type {\n",
              "        vertical-align: middle;\n",
              "    }\n",
              "\n",
              "    .dataframe tbody tr th {\n",
              "        vertical-align: top;\n",
              "    }\n",
              "\n",
              "    .dataframe thead th {\n",
              "        text-align: right;\n",
              "    }\n",
              "</style>\n",
              "<table border=\"1\" class=\"dataframe\">\n",
              "  <thead>\n",
              "    <tr style=\"text-align: right;\">\n",
              "      <th></th>\n",
              "      <th>ANO</th>\n",
              "      <th>PROD_LEITE</th>\n",
              "      <th>IND_PLUVIO</th>\n",
              "    </tr>\n",
              "  </thead>\n",
              "  <tbody>\n",
              "    <tr>\n",
              "      <th>0</th>\n",
              "      <td>2010-12-31</td>\n",
              "      <td>26</td>\n",
              "      <td>23</td>\n",
              "    </tr>\n",
              "    <tr>\n",
              "      <th>1</th>\n",
              "      <td>2011-12-31</td>\n",
              "      <td>25</td>\n",
              "      <td>21</td>\n",
              "    </tr>\n",
              "    <tr>\n",
              "      <th>2</th>\n",
              "      <td>2012-12-31</td>\n",
              "      <td>31</td>\n",
              "      <td>28</td>\n",
              "    </tr>\n",
              "    <tr>\n",
              "      <th>3</th>\n",
              "      <td>2013-12-31</td>\n",
              "      <td>29</td>\n",
              "      <td>27</td>\n",
              "    </tr>\n",
              "    <tr>\n",
              "      <th>4</th>\n",
              "      <td>2014-12-31</td>\n",
              "      <td>27</td>\n",
              "      <td>23</td>\n",
              "    </tr>\n",
              "    <tr>\n",
              "      <th>5</th>\n",
              "      <td>2015-12-31</td>\n",
              "      <td>31</td>\n",
              "      <td>28</td>\n",
              "    </tr>\n",
              "    <tr>\n",
              "      <th>6</th>\n",
              "      <td>2016-12-31</td>\n",
              "      <td>32</td>\n",
              "      <td>27</td>\n",
              "    </tr>\n",
              "    <tr>\n",
              "      <th>7</th>\n",
              "      <td>2017-12-31</td>\n",
              "      <td>28</td>\n",
              "      <td>22</td>\n",
              "    </tr>\n",
              "    <tr>\n",
              "      <th>8</th>\n",
              "      <td>2018-12-31</td>\n",
              "      <td>30</td>\n",
              "      <td>26</td>\n",
              "    </tr>\n",
              "    <tr>\n",
              "      <th>9</th>\n",
              "      <td>2019-12-31</td>\n",
              "      <td>30</td>\n",
              "      <td>25</td>\n",
              "    </tr>\n",
              "  </tbody>\n",
              "</table>\n",
              "</div>"
            ],
            "text/plain": [
              "         ANO  PROD_LEITE  IND_PLUVIO\n",
              "0 2010-12-31          26          23\n",
              "1 2011-12-31          25          21\n",
              "2 2012-12-31          31          28\n",
              "3 2013-12-31          29          27\n",
              "4 2014-12-31          27          23\n",
              "5 2015-12-31          31          28\n",
              "6 2016-12-31          32          27\n",
              "7 2017-12-31          28          22\n",
              "8 2018-12-31          30          26\n",
              "9 2019-12-31          30          25"
            ]
          },
          "metadata": {
            "tags": []
          },
          "execution_count": 97
        }
      ]
    },
    {
      "cell_type": "code",
      "metadata": {
        "id": "8f4mP-TfUaF-",
        "outputId": "e437b985-1686-4495-dcb8-ae3c93f3d645",
        "colab": {
          "base_uri": "https://localhost:8080/",
          "height": 282
        }
      },
      "source": [
        "#Visualização dos dados\n",
        "fig, (ax1, ax2) = plt.subplots(1, 2)\n",
        "\n",
        "ax1.hist(leite['PROD_LEITE'], bins=3)\n",
        "ax2.scatter(leite['PROD_LEITE'], leite['IND_PLUVIO'])"
      ],
      "execution_count": null,
      "outputs": [
        {
          "output_type": "execute_result",
          "data": {
            "text/plain": [
              "<matplotlib.collections.PathCollection at 0x7f175f9be668>"
            ]
          },
          "metadata": {
            "tags": []
          },
          "execution_count": 98
        },
        {
          "output_type": "display_data",
          "data": {
            "image/png": "[encoded data removed]",
            "text/plain": [
              "<Figure size 432x288 with 2 Axes>"
            ]
          },
          "metadata": {
            "tags": [],
            "needs_background": "light"
          }
        }
      ]
    },
    {
      "cell_type": "code",
      "metadata": {
        "id": "4PLcH4P_THBE"
      },
      "source": [
        "#Transformando dados do data frame em arrays\n",
        "x = np.array(leite['IND_PLUVIO'])\n",
        "y = np.array(leite['PROD_LEITE'])"
      ],
      "execution_count": null,
      "outputs": []
    },
    {
      "cell_type": "code",
      "metadata": {
        "id": "z6W5xxXeR5Tk",
        "outputId": "4bb70d22-28ee-46c8-eb52-10f2a7b375d2",
        "colab": {
          "base_uri": "https://localhost:8080/",
          "height": 34
        }
      },
      "source": [
        "#Criação do modelo\n",
        "lm_model = LinearRegression(normalize=True)\n",
        "lm_model.fit(x.reshape(-1, 1), y)"
      ],
      "execution_count": null,
      "outputs": [
        {
          "output_type": "execute_result",
          "data": {
            "text/plain": [
              "LinearRegression(copy_X=True, fit_intercept=True, n_jobs=None, normalize=True)"
            ]
          },
          "metadata": {
            "tags": []
          },
          "execution_count": 118
        }
      ]
    },
    {
      "cell_type": "code",
      "metadata": {
        "id": "m40v56Z4W0z3"
      },
      "source": [
        "#Recuperação dos parâmetros para reta de ajustamento\n",
        "inclinacao = lm_model.coef_\n",
        "intersecao = lm_model.intercept_"
      ],
      "execution_count": null,
      "outputs": []
    },
    {
      "cell_type": "code",
      "metadata": {
        "id": "gxUiKGG_Xf0D",
        "outputId": "c6082277-6d7b-4cb8-99a5-9a1484d12e45",
        "colab": {
          "base_uri": "https://localhost:8080/",
          "height": 269
        }
      },
      "source": [
        "plt.scatter(x, y, s=3)\n",
        "plt.plot(x, (x * inclinacao + intersecao), 'g')\n",
        "plt.title('Regressão Linear Simples: Produção de Leite e Índice Pluviométrico')\n",
        "plt.legend(['Reta de ajustamento', 'Dispersão dos dados'])\n",
        "plt.yticks([])\n",
        "plt.xticks([])\n",
        "sns.despine()"
      ],
      "execution_count": null,
      "outputs": [
        {
          "output_type": "display_data",
          "data": {
            "image/png": "[encoded data removed]",
            "text/plain": [
              "<Figure size 432x288 with 1 Axes>"
            ]
          },
          "metadata": {
            "tags": []
          }
        }
      ]
    },
    {
      "cell_type": "code",
      "metadata": {
        "id": "TRiX4trRYH08",
        "outputId": "8dd4831b-d874-4b40-f817-831679d18566",
        "colab": {
          "base_uri": "https://localhost:8080/",
          "height": 34
        }
      },
      "source": [
        "\"\"\"\n",
        "Cálculo da reta de ajustamento\n",
        "Ŷ = a + bX\n",
        "Onde:\n",
        "a e b: Parâmetros do modelo\n",
        "a => Ponto onde a reta ajustada corta o eixo Y\n",
        "b => Tangente do ângulo que a reta forma com uma paralelo do eixo X (inclinação)\n",
        "\"\"\"\n",
        "\n",
        "print(f'Equação: Ŷ = a + bX = {intersecao} + {inclinacao[0]} * X')"
      ],
      "execution_count": null,
      "outputs": [
        {
          "output_type": "stream",
          "text": [
            "Equação: Ŷ = a + bX = 8.899999999999999 + 0.8 * X\n"
          ],
          "name": "stdout"
        }
      ]
    },
    {
      "cell_type": "code",
      "metadata": {
        "id": "_kCESJb2Zq6V",
        "outputId": "2feda189-3fa5-48d1-f4bf-e2882724c3c4",
        "colab": {
          "base_uri": "https://localhost:8080/",
          "height": 34
        }
      },
      "source": [
        "#Aplicação manual do modelo\n",
        "x_conhecido = 24\n",
        "y_previsto = intersecao + inclinacao[0] * x_conhecido\n",
        "y_previsto"
      ],
      "execution_count": null,
      "outputs": [
        {
          "output_type": "execute_result",
          "data": {
            "text/plain": [
              "28.1"
            ]
          },
          "metadata": {
            "tags": []
          },
          "execution_count": 104
        }
      ]
    },
    {
      "cell_type": "code",
      "metadata": {
        "id": "izPjzH6wdjcY",
        "outputId": "fe9e0fa3-078d-4b4c-ccc3-a629569a20da",
        "colab": {
          "base_uri": "https://localhost:8080/",
          "height": 34
        }
      },
      "source": [
        "#Função manual para aplicação do modelo\n",
        "def previsao(x_conhecido):\n",
        "  y_previsto = intersecao + inclinacao[0] * x_conhecido\n",
        "  return y_previsto\n",
        "\n",
        "previsto = previsao(x_conhecido)\n",
        "previsto"
      ],
      "execution_count": null,
      "outputs": [
        {
          "output_type": "execute_result",
          "data": {
            "text/plain": [
              "28.1"
            ]
          },
          "metadata": {
            "tags": []
          },
          "execution_count": 105
        }
      ]
    },
    {
      "cell_type": "code",
      "metadata": {
        "id": "-1MLo_oXcVfH",
        "outputId": "33165337-45e4-4fc2-e0a8-80a9dcae6a10",
        "colab": {
          "base_uri": "https://localhost:8080/",
          "height": 34
        }
      },
      "source": [
        "\"\"\"\n",
        "Aplicação do modelo para previsão automática\n",
        "Referência complementar:\n",
        "https://scikit-learn.org/stable/modules/generated/sklearn.linear_model.LinearRegression.html\n",
        "\n",
        "#Antes de aplicar o método predict é necessário converter o valor em np.array,\n",
        "tendo em vista que o modelo precisa receber uma array para realizar o\n",
        "processamento\n",
        "\"\"\"\n",
        "#Transformação do x em array\n",
        "x_conhecido = np.array(x_conhecido)\n",
        "\n",
        "#Previsão\n",
        "lm_model.predict(x_conhecido.reshape(-1, 1))"
      ],
      "execution_count": null,
      "outputs": [
        {
          "output_type": "execute_result",
          "data": {
            "text/plain": [
              "array([28.1])"
            ]
          },
          "metadata": {
            "tags": []
          },
          "execution_count": 122
        }
      ]
    },
    {
      "cell_type": "markdown",
      "metadata": {
        "id": "RCFSAyQdqWs2"
      },
      "source": [
        "***R² Coeficiente de determinação***\n",
        "\n",
        "Poder explicativo do modelo"
      ]
    },
    {
      "cell_type": "code",
      "metadata": {
        "id": "2pdzqJa8qej4",
        "outputId": "e3175412-f8b9-4fe6-a1ce-34ad2aa1d198",
        "colab": {
          "base_uri": "https://localhost:8080/",
          "height": 34
        }
      },
      "source": [
        "\"\"\"\n",
        "R² = (b * (SYX)) / (SYY)\n",
        "Onde:\n",
        "SYX = soma(X * Y) - (((soma(X)) * (soma(Y))) / n)\n",
        "SYY = soma(Y ** 2) - (soma(Y) ** 2 / n)\n",
        "\"\"\"\n",
        "r2 = lm_model.score(x.reshape(-1, 1), y)\n",
        "print(f'R² do modelo: {r2:.3f}')"
      ],
      "execution_count": null,
      "outputs": [
        {
          "output_type": "stream",
          "text": [
            "R² do modelo: 0.785\n"
          ],
          "name": "stdout"
        }
      ]
    },
    {
      "cell_type": "code",
      "metadata": {
        "id": "VWNNImYqfEIf"
      },
      "source": [
        "emprestimos = pd.read_csv('loan.csv', low_memory=False)"
      ],
      "execution_count": null,
      "outputs": []
    },
    {
      "cell_type": "code",
      "metadata": {
        "id": "yF1_3Yb6gAei",
        "outputId": "e13652ea-0e81-45c9-eec0-c818e0a60055",
        "colab": {
          "base_uri": "https://localhost:8080/",
          "height": 364
        }
      },
      "source": [
        "emprestimos.columns"
      ],
      "execution_count": null,
      "outputs": [
        {
          "output_type": "execute_result",
          "data": {
            "text/plain": [
              "Index(['id', 'member_id', 'loan_amnt', 'funded_amnt', 'funded_amnt_inv',\n",
              "       'term', 'int_rate', 'installment', 'grade', 'sub_grade', 'emp_title',\n",
              "       'emp_length', 'home_ownership', 'annual_inc', 'verification_status',\n",
              "       'issue_d', 'loan_status', 'pymnt_plan', 'url', 'desc', 'purpose',\n",
              "       'title', 'zip_code', 'addr_state', 'dti', 'delinq_2yrs',\n",
              "       'earliest_cr_line', 'inq_last_6mths', 'mths_since_last_delinq',\n",
              "       'mths_since_last_record', 'open_acc', 'pub_rec', 'revol_bal',\n",
              "       'revol_util', 'total_acc', 'initial_list_status', 'out_prncp',\n",
              "       'out_prncp_inv', 'total_pymnt', 'total_pymnt_inv', 'total_rec_prncp',\n",
              "       'total_rec_int', 'total_rec_late_fee', 'recoveries',\n",
              "       'collection_recovery_fee', 'last_pymnt_d', 'last_pymnt_amnt',\n",
              "       'next_pymnt_d', 'last_credit_pull_d', 'collections_12_mths_ex_med',\n",
              "       'mths_since_last_major_derog', 'policy_code', 'application_type',\n",
              "       'annual_inc_joint', 'dti_joint', 'verification_status_joint',\n",
              "       'acc_now_delinq', 'tot_coll_amt', 'tot_cur_bal', 'open_acc_6m',\n",
              "       'open_il_6m', 'open_il_12m', 'open_il_24m', 'mths_since_rcnt_il',\n",
              "       'total_bal_il', 'il_util', 'open_rv_12m', 'open_rv_24m', 'max_bal_bc',\n",
              "       'all_util', 'total_rev_hi_lim', 'inq_fi', 'total_cu_tl',\n",
              "       'inq_last_12m'],\n",
              "      dtype='object')"
            ]
          },
          "metadata": {
            "tags": []
          },
          "execution_count": 57
        }
      ]
    },
    {
      "cell_type": "code",
      "metadata": {
        "id": "pdvm6Um-e_nt",
        "outputId": "c218d3df-19ae-4096-90e5-f21dcd01f7eb",
        "colab": {
          "base_uri": "https://localhost:8080/",
          "height": 678
        }
      },
      "source": [
        "emprestimos.head(5)"
      ],
      "execution_count": null,
      "outputs": [
        {
          "output_type": "execute_result",
          "data": {
            "text/html": [
              "<div>\n",
              "<style scoped>\n",
              "    .dataframe tbody tr th:only-of-type {\n",
              "        vertical-align: middle;\n",
              "    }\n",
              "\n",
              "    .dataframe tbody tr th {\n",
              "        vertical-align: top;\n",
              "    }\n",
              "\n",
              "    .dataframe thead th {\n",
              "        text-align: right;\n",
              "    }\n",
              "</style>\n",
              "<table border=\"1\" class=\"dataframe\">\n",
              "  <thead>\n",
              "    <tr style=\"text-align: right;\">\n",
              "      <th></th>\n",
              "      <th>id</th>\n",
              "      <th>member_id</th>\n",
              "      <th>loan_amnt</th>\n",
              "      <th>funded_amnt</th>\n",
              "      <th>funded_amnt_inv</th>\n",
              "      <th>term</th>\n",
              "      <th>int_rate</th>\n",
              "      <th>installment</th>\n",
              "      <th>grade</th>\n",
              "      <th>sub_grade</th>\n",
              "      <th>emp_title</th>\n",
              "      <th>emp_length</th>\n",
              "      <th>home_ownership</th>\n",
              "      <th>annual_inc</th>\n",
              "      <th>verification_status</th>\n",
              "      <th>issue_d</th>\n",
              "      <th>loan_status</th>\n",
              "      <th>pymnt_plan</th>\n",
              "      <th>url</th>\n",
              "      <th>desc</th>\n",
              "      <th>purpose</th>\n",
              "      <th>title</th>\n",
              "      <th>zip_code</th>\n",
              "      <th>addr_state</th>\n",
              "      <th>dti</th>\n",
              "      <th>delinq_2yrs</th>\n",
              "      <th>earliest_cr_line</th>\n",
              "      <th>inq_last_6mths</th>\n",
              "      <th>mths_since_last_delinq</th>\n",
              "      <th>mths_since_last_record</th>\n",
              "      <th>open_acc</th>\n",
              "      <th>pub_rec</th>\n",
              "      <th>revol_bal</th>\n",
              "      <th>revol_util</th>\n",
              "      <th>total_acc</th>\n",
              "      <th>initial_list_status</th>\n",
              "      <th>out_prncp</th>\n",
              "      <th>out_prncp_inv</th>\n",
              "      <th>total_pymnt</th>\n",
              "      <th>total_pymnt_inv</th>\n",
              "      <th>total_rec_prncp</th>\n",
              "      <th>total_rec_int</th>\n",
              "      <th>total_rec_late_fee</th>\n",
              "      <th>recoveries</th>\n",
              "      <th>collection_recovery_fee</th>\n",
              "      <th>last_pymnt_d</th>\n",
              "      <th>last_pymnt_amnt</th>\n",
              "      <th>next_pymnt_d</th>\n",
              "      <th>last_credit_pull_d</th>\n",
              "      <th>collections_12_mths_ex_med</th>\n",
              "      <th>mths_since_last_major_derog</th>\n",
              "      <th>policy_code</th>\n",
              "      <th>application_type</th>\n",
              "      <th>annual_inc_joint</th>\n",
              "      <th>dti_joint</th>\n",
              "      <th>verification_status_joint</th>\n",
              "      <th>acc_now_delinq</th>\n",
              "      <th>tot_coll_amt</th>\n",
              "      <th>tot_cur_bal</th>\n",
              "      <th>open_acc_6m</th>\n",
              "      <th>open_il_6m</th>\n",
              "      <th>open_il_12m</th>\n",
              "      <th>open_il_24m</th>\n",
              "      <th>mths_since_rcnt_il</th>\n",
              "      <th>total_bal_il</th>\n",
              "      <th>il_util</th>\n",
              "      <th>open_rv_12m</th>\n",
              "      <th>open_rv_24m</th>\n",
              "      <th>max_bal_bc</th>\n",
              "      <th>all_util</th>\n",
              "      <th>total_rev_hi_lim</th>\n",
              "      <th>inq_fi</th>\n",
              "      <th>total_cu_tl</th>\n",
              "      <th>inq_last_12m</th>\n",
              "    </tr>\n",
              "  </thead>\n",
              "  <tbody>\n",
              "    <tr>\n",
              "      <th>0</th>\n",
              "      <td>1077501</td>\n",
              "      <td>1296599</td>\n",
              "      <td>5000.0</td>\n",
              "      <td>5000.0</td>\n",
              "      <td>4975.0</td>\n",
              "      <td>36 months</td>\n",
              "      <td>10.65</td>\n",
              "      <td>162.87</td>\n",
              "      <td>B</td>\n",
              "      <td>B2</td>\n",
              "      <td>NaN</td>\n",
              "      <td>10+ years</td>\n",
              "      <td>RENT</td>\n",
              "      <td>24000.0</td>\n",
              "      <td>Verified</td>\n",
              "      <td>Dec-2011</td>\n",
              "      <td>Fully Paid</td>\n",
              "      <td>n</td>\n",
              "      <td>https://www.lendingclub.com/browse/loanDetail....</td>\n",
              "      <td>Borrower added on 12/22/11 &gt; I need to upgra...</td>\n",
              "      <td>credit_card</td>\n",
              "      <td>Computer</td>\n",
              "      <td>860xx</td>\n",
              "      <td>AZ</td>\n",
              "      <td>27.65</td>\n",
              "      <td>0.0</td>\n",
              "      <td>Jan-1985</td>\n",
              "      <td>1.0</td>\n",
              "      <td>NaN</td>\n",
              "      <td>NaN</td>\n",
              "      <td>3.0</td>\n",
              "      <td>0.0</td>\n",
              "      <td>13648.0</td>\n",
              "      <td>83.7</td>\n",
              "      <td>9.0</td>\n",
              "      <td>f</td>\n",
              "      <td>0.0</td>\n",
              "      <td>0.0</td>\n",
              "      <td>5861.071414</td>\n",
              "      <td>5831.78</td>\n",
              "      <td>5000.00</td>\n",
              "      <td>861.07</td>\n",
              "      <td>0.00</td>\n",
              "      <td>0.00</td>\n",
              "      <td>0.00</td>\n",
              "      <td>Jan-2015</td>\n",
              "      <td>171.62</td>\n",
              "      <td>NaN</td>\n",
              "      <td>Jan-2016</td>\n",
              "      <td>0.0</td>\n",
              "      <td>NaN</td>\n",
              "      <td>1.0</td>\n",
              "      <td>INDIVIDUAL</td>\n",
              "      <td>NaN</td>\n",
              "      <td>NaN</td>\n",
              "      <td>NaN</td>\n",
              "      <td>0.0</td>\n",
              "      <td>NaN</td>\n",
              "      <td>NaN</td>\n",
              "      <td>NaN</td>\n",
              "      <td>NaN</td>\n",
              "      <td>NaN</td>\n",
              "      <td>NaN</td>\n",
              "      <td>NaN</td>\n",
              "      <td>NaN</td>\n",
              "      <td>NaN</td>\n",
              "      <td>NaN</td>\n",
              "      <td>NaN</td>\n",
              "      <td>NaN</td>\n",
              "      <td>NaN</td>\n",
              "      <td>NaN</td>\n",
              "      <td>NaN</td>\n",
              "      <td>NaN</td>\n",
              "      <td>NaN</td>\n",
              "    </tr>\n",
              "    <tr>\n",
              "      <th>1</th>\n",
              "      <td>1077430</td>\n",
              "      <td>1314167</td>\n",
              "      <td>2500.0</td>\n",
              "      <td>2500.0</td>\n",
              "      <td>2500.0</td>\n",
              "      <td>60 months</td>\n",
              "      <td>15.27</td>\n",
              "      <td>59.83</td>\n",
              "      <td>C</td>\n",
              "      <td>C4</td>\n",
              "      <td>Ryder</td>\n",
              "      <td>&lt; 1 year</td>\n",
              "      <td>RENT</td>\n",
              "      <td>30000.0</td>\n",
              "      <td>Source Verified</td>\n",
              "      <td>Dec-2011</td>\n",
              "      <td>Charged Off</td>\n",
              "      <td>n</td>\n",
              "      <td>https://www.lendingclub.com/browse/loanDetail....</td>\n",
              "      <td>Borrower added on 12/22/11 &gt; I plan to use t...</td>\n",
              "      <td>car</td>\n",
              "      <td>bike</td>\n",
              "      <td>309xx</td>\n",
              "      <td>GA</td>\n",
              "      <td>1.00</td>\n",
              "      <td>0.0</td>\n",
              "      <td>Apr-1999</td>\n",
              "      <td>5.0</td>\n",
              "      <td>NaN</td>\n",
              "      <td>NaN</td>\n",
              "      <td>3.0</td>\n",
              "      <td>0.0</td>\n",
              "      <td>1687.0</td>\n",
              "      <td>9.4</td>\n",
              "      <td>4.0</td>\n",
              "      <td>f</td>\n",
              "      <td>0.0</td>\n",
              "      <td>0.0</td>\n",
              "      <td>1008.710000</td>\n",
              "      <td>1008.71</td>\n",
              "      <td>456.46</td>\n",
              "      <td>435.17</td>\n",
              "      <td>0.00</td>\n",
              "      <td>117.08</td>\n",
              "      <td>1.11</td>\n",
              "      <td>Apr-2013</td>\n",
              "      <td>119.66</td>\n",
              "      <td>NaN</td>\n",
              "      <td>Sep-2013</td>\n",
              "      <td>0.0</td>\n",
              "      <td>NaN</td>\n",
              "      <td>1.0</td>\n",
              "      <td>INDIVIDUAL</td>\n",
              "      <td>NaN</td>\n",
              "      <td>NaN</td>\n",
              "      <td>NaN</td>\n",
              "      <td>0.0</td>\n",
              "      <td>NaN</td>\n",
              "      <td>NaN</td>\n",
              "      <td>NaN</td>\n",
              "      <td>NaN</td>\n",
              "      <td>NaN</td>\n",
              "      <td>NaN</td>\n",
              "      <td>NaN</td>\n",
              "      <td>NaN</td>\n",
              "      <td>NaN</td>\n",
              "      <td>NaN</td>\n",
              "      <td>NaN</td>\n",
              "      <td>NaN</td>\n",
              "      <td>NaN</td>\n",
              "      <td>NaN</td>\n",
              "      <td>NaN</td>\n",
              "      <td>NaN</td>\n",
              "      <td>NaN</td>\n",
              "    </tr>\n",
              "    <tr>\n",
              "      <th>2</th>\n",
              "      <td>1077175</td>\n",
              "      <td>1313524</td>\n",
              "      <td>2400.0</td>\n",
              "      <td>2400.0</td>\n",
              "      <td>2400.0</td>\n",
              "      <td>36 months</td>\n",
              "      <td>15.96</td>\n",
              "      <td>84.33</td>\n",
              "      <td>C</td>\n",
              "      <td>C5</td>\n",
              "      <td>NaN</td>\n",
              "      <td>10+ years</td>\n",
              "      <td>RENT</td>\n",
              "      <td>12252.0</td>\n",
              "      <td>Not Verified</td>\n",
              "      <td>Dec-2011</td>\n",
              "      <td>Fully Paid</td>\n",
              "      <td>n</td>\n",
              "      <td>https://www.lendingclub.com/browse/loanDetail....</td>\n",
              "      <td>NaN</td>\n",
              "      <td>small_business</td>\n",
              "      <td>real estate business</td>\n",
              "      <td>606xx</td>\n",
              "      <td>IL</td>\n",
              "      <td>8.72</td>\n",
              "      <td>0.0</td>\n",
              "      <td>Nov-2001</td>\n",
              "      <td>2.0</td>\n",
              "      <td>NaN</td>\n",
              "      <td>NaN</td>\n",
              "      <td>2.0</td>\n",
              "      <td>0.0</td>\n",
              "      <td>2956.0</td>\n",
              "      <td>98.5</td>\n",
              "      <td>10.0</td>\n",
              "      <td>f</td>\n",
              "      <td>0.0</td>\n",
              "      <td>0.0</td>\n",
              "      <td>3003.653644</td>\n",
              "      <td>3003.65</td>\n",
              "      <td>2400.00</td>\n",
              "      <td>603.65</td>\n",
              "      <td>0.00</td>\n",
              "      <td>0.00</td>\n",
              "      <td>0.00</td>\n",
              "      <td>Jun-2014</td>\n",
              "      <td>649.91</td>\n",
              "      <td>NaN</td>\n",
              "      <td>Jan-2016</td>\n",
              "      <td>0.0</td>\n",
              "      <td>NaN</td>\n",
              "      <td>1.0</td>\n",
              "      <td>INDIVIDUAL</td>\n",
              "      <td>NaN</td>\n",
              "      <td>NaN</td>\n",
              "      <td>NaN</td>\n",
              "      <td>0.0</td>\n",
              "      <td>NaN</td>\n",
              "      <td>NaN</td>\n",
              "      <td>NaN</td>\n",
              "      <td>NaN</td>\n",
              "      <td>NaN</td>\n",
              "      <td>NaN</td>\n",
              "      <td>NaN</td>\n",
              "      <td>NaN</td>\n",
              "      <td>NaN</td>\n",
              "      <td>NaN</td>\n",
              "      <td>NaN</td>\n",
              "      <td>NaN</td>\n",
              "      <td>NaN</td>\n",
              "      <td>NaN</td>\n",
              "      <td>NaN</td>\n",
              "      <td>NaN</td>\n",
              "      <td>NaN</td>\n",
              "    </tr>\n",
              "    <tr>\n",
              "      <th>3</th>\n",
              "      <td>1076863</td>\n",
              "      <td>1277178</td>\n",
              "      <td>10000.0</td>\n",
              "      <td>10000.0</td>\n",
              "      <td>10000.0</td>\n",
              "      <td>36 months</td>\n",
              "      <td>13.49</td>\n",
              "      <td>339.31</td>\n",
              "      <td>C</td>\n",
              "      <td>C1</td>\n",
              "      <td>AIR RESOURCES BOARD</td>\n",
              "      <td>10+ years</td>\n",
              "      <td>RENT</td>\n",
              "      <td>49200.0</td>\n",
              "      <td>Source Verified</td>\n",
              "      <td>Dec-2011</td>\n",
              "      <td>Fully Paid</td>\n",
              "      <td>n</td>\n",
              "      <td>https://www.lendingclub.com/browse/loanDetail....</td>\n",
              "      <td>Borrower added on 12/21/11 &gt; to pay for prop...</td>\n",
              "      <td>other</td>\n",
              "      <td>personel</td>\n",
              "      <td>917xx</td>\n",
              "      <td>CA</td>\n",
              "      <td>20.00</td>\n",
              "      <td>0.0</td>\n",
              "      <td>Feb-1996</td>\n",
              "      <td>1.0</td>\n",
              "      <td>35.0</td>\n",
              "      <td>NaN</td>\n",
              "      <td>10.0</td>\n",
              "      <td>0.0</td>\n",
              "      <td>5598.0</td>\n",
              "      <td>21.0</td>\n",
              "      <td>37.0</td>\n",
              "      <td>f</td>\n",
              "      <td>0.0</td>\n",
              "      <td>0.0</td>\n",
              "      <td>12226.302212</td>\n",
              "      <td>12226.30</td>\n",
              "      <td>10000.00</td>\n",
              "      <td>2209.33</td>\n",
              "      <td>16.97</td>\n",
              "      <td>0.00</td>\n",
              "      <td>0.00</td>\n",
              "      <td>Jan-2015</td>\n",
              "      <td>357.48</td>\n",
              "      <td>NaN</td>\n",
              "      <td>Jan-2015</td>\n",
              "      <td>0.0</td>\n",
              "      <td>NaN</td>\n",
              "      <td>1.0</td>\n",
              "      <td>INDIVIDUAL</td>\n",
              "      <td>NaN</td>\n",
              "      <td>NaN</td>\n",
              "      <td>NaN</td>\n",
              "      <td>0.0</td>\n",
              "      <td>NaN</td>\n",
              "      <td>NaN</td>\n",
              "      <td>NaN</td>\n",
              "      <td>NaN</td>\n",
              "      <td>NaN</td>\n",
              "      <td>NaN</td>\n",
              "      <td>NaN</td>\n",
              "      <td>NaN</td>\n",
              "      <td>NaN</td>\n",
              "      <td>NaN</td>\n",
              "      <td>NaN</td>\n",
              "      <td>NaN</td>\n",
              "      <td>NaN</td>\n",
              "      <td>NaN</td>\n",
              "      <td>NaN</td>\n",
              "      <td>NaN</td>\n",
              "      <td>NaN</td>\n",
              "    </tr>\n",
              "    <tr>\n",
              "      <th>4</th>\n",
              "      <td>1075358</td>\n",
              "      <td>1311748</td>\n",
              "      <td>3000.0</td>\n",
              "      <td>3000.0</td>\n",
              "      <td>3000.0</td>\n",
              "      <td>60 months</td>\n",
              "      <td>12.69</td>\n",
              "      <td>67.79</td>\n",
              "      <td>B</td>\n",
              "      <td>B5</td>\n",
              "      <td>University Medical Group</td>\n",
              "      <td>1 year</td>\n",
              "      <td>RENT</td>\n",
              "      <td>80000.0</td>\n",
              "      <td>Source Verified</td>\n",
              "      <td>Dec-2011</td>\n",
              "      <td>Current</td>\n",
              "      <td>n</td>\n",
              "      <td>https://www.lendingclub.com/browse/loanDetail....</td>\n",
              "      <td>Borrower added on 12/21/11 &gt; I plan on combi...</td>\n",
              "      <td>other</td>\n",
              "      <td>Personal</td>\n",
              "      <td>972xx</td>\n",
              "      <td>OR</td>\n",
              "      <td>17.94</td>\n",
              "      <td>0.0</td>\n",
              "      <td>Jan-1996</td>\n",
              "      <td>0.0</td>\n",
              "      <td>38.0</td>\n",
              "      <td>NaN</td>\n",
              "      <td>15.0</td>\n",
              "      <td>0.0</td>\n",
              "      <td>27783.0</td>\n",
              "      <td>53.9</td>\n",
              "      <td>38.0</td>\n",
              "      <td>f</td>\n",
              "      <td>766.9</td>\n",
              "      <td>766.9</td>\n",
              "      <td>3242.170000</td>\n",
              "      <td>3242.17</td>\n",
              "      <td>2233.10</td>\n",
              "      <td>1009.07</td>\n",
              "      <td>0.00</td>\n",
              "      <td>0.00</td>\n",
              "      <td>0.00</td>\n",
              "      <td>Jan-2016</td>\n",
              "      <td>67.79</td>\n",
              "      <td>Feb-2016</td>\n",
              "      <td>Jan-2016</td>\n",
              "      <td>0.0</td>\n",
              "      <td>NaN</td>\n",
              "      <td>1.0</td>\n",
              "      <td>INDIVIDUAL</td>\n",
              "      <td>NaN</td>\n",
              "      <td>NaN</td>\n",
              "      <td>NaN</td>\n",
              "      <td>0.0</td>\n",
              "      <td>NaN</td>\n",
              "      <td>NaN</td>\n",
              "      <td>NaN</td>\n",
              "      <td>NaN</td>\n",
              "      <td>NaN</td>\n",
              "      <td>NaN</td>\n",
              "      <td>NaN</td>\n",
              "      <td>NaN</td>\n",
              "      <td>NaN</td>\n",
              "      <td>NaN</td>\n",
              "      <td>NaN</td>\n",
              "      <td>NaN</td>\n",
              "      <td>NaN</td>\n",
              "      <td>NaN</td>\n",
              "      <td>NaN</td>\n",
              "      <td>NaN</td>\n",
              "      <td>NaN</td>\n",
              "    </tr>\n",
              "  </tbody>\n",
              "</table>\n",
              "</div>"
            ],
            "text/plain": [
              "        id  member_id  loan_amnt  ...  inq_fi  total_cu_tl inq_last_12m\n",
              "0  1077501    1296599     5000.0  ...     NaN          NaN          NaN\n",
              "1  1077430    1314167     2500.0  ...     NaN          NaN          NaN\n",
              "2  1077175    1313524     2400.0  ...     NaN          NaN          NaN\n",
              "3  1076863    1277178    10000.0  ...     NaN          NaN          NaN\n",
              "4  1075358    1311748     3000.0  ...     NaN          NaN          NaN\n",
              "\n",
              "[5 rows x 74 columns]"
            ]
          },
          "metadata": {
            "tags": []
          },
          "execution_count": 59
        }
      ]
    },
    {
      "cell_type": "code",
      "metadata": {
        "id": "wO8ZhcZEgXPm"
      },
      "source": [
        "emprestimos['loan_amnt'] = emprestimos['loan_amnt'].fillna(0)\n",
        "emprestimos['annual_inc'] = emprestimos['annual_inc'].fillna(0)"
      ],
      "execution_count": null,
      "outputs": []
    },
    {
      "cell_type": "code",
      "metadata": {
        "id": "kSz5SCwYiy2H",
        "outputId": "a792557e-1e53-4769-dc76-60658f5de147",
        "colab": {
          "base_uri": "https://localhost:8080/",
          "height": 34
        }
      },
      "source": [
        "y = np.array(emprestimos['annual_inc'])\n",
        "x = np.array(emprestimos['loan_amnt'])\n",
        "print(y,\n",
        "      x)"
      ],
      "execution_count": null,
      "outputs": [
        {
          "output_type": "stream",
          "text": [
            "[24000. 30000. 12252. ... 28000. 65000.     0.] [ 5000.  2500.  2400. ...  1800. 25000.     0.]\n"
          ],
          "name": "stdout"
        }
      ]
    },
    {
      "cell_type": "code",
      "metadata": {
        "id": "NqYbgc_ni7JO",
        "outputId": "e53310c8-38d7-4e66-fa17-ef2eb8481d5f",
        "colab": {
          "base_uri": "https://localhost:8080/",
          "height": 276
        }
      },
      "source": [
        "fig, (ax1, ax2) = plt.subplots(1, 2)\n",
        "\n",
        "ax1.hist(x, density=True)\n",
        "ax2.scatter(x, y)\n",
        "sns.despine()"
      ],
      "execution_count": null,
      "outputs": [
        {
          "output_type": "display_data",
          "data": {
            "image/png": "[encoded data removed]",
            "text/plain": [
              "<Figure size 432x288 with 2 Axes>"
            ]
          },
          "metadata": {
            "tags": [],
            "needs_background": "light"
          }
        }
      ]
    },
    {
      "cell_type": "code",
      "metadata": {
        "id": "kZkxivhkiqFu",
        "outputId": "c97775d2-6be6-46c4-b188-246d1064cce2",
        "colab": {
          "base_uri": "https://localhost:8080/",
          "height": 34
        }
      },
      "source": [
        "#Criação do modelo\n",
        "lm_model = LinearRegression(normalize=True)\n",
        "lm_model.fit(x.reshape(-1, 1), y)"
      ],
      "execution_count": null,
      "outputs": [
        {
          "output_type": "execute_result",
          "data": {
            "text/plain": [
              "LinearRegression(copy_X=True, fit_intercept=True, n_jobs=None, normalize=True)"
            ]
          },
          "metadata": {
            "tags": []
          },
          "execution_count": 111
        }
      ]
    },
    {
      "cell_type": "code",
      "metadata": {
        "id": "xPJFuIUfk84j"
      },
      "source": [
        "#Recuperação do parâmetros\n",
        "a = lm_model.intercept_ #Interseção do eixto y\n",
        "b = lm_model.coef_ #Inclinação em relação ao eixo x"
      ],
      "execution_count": null,
      "outputs": []
    },
    {
      "cell_type": "code",
      "metadata": {
        "id": "XxoMXVzxltRW",
        "outputId": "c8997528-b08d-4ef6-dc65-95cf74d63e30",
        "colab": {
          "base_uri": "https://localhost:8080/",
          "height": 293
        }
      },
      "source": [
        "plt.scatter(x, y)\n",
        "plt.plot(x, (x * b + a), 'r')"
      ],
      "execution_count": null,
      "outputs": [
        {
          "output_type": "execute_result",
          "data": {
            "text/plain": [
              "[<matplotlib.lines.Line2D at 0x7f17682409b0>]"
            ]
          },
          "metadata": {
            "tags": []
          },
          "execution_count": 90
        },
        {
          "output_type": "display_data",
          "data": {
            "image/png": "[encoded data removed]",
            "text/plain": [
              "<Figure size 432x288 with 1 Axes>"
            ]
          },
          "metadata": {
            "tags": [],
            "needs_background": "light"
          }
        }
      ]
    },
    {
      "cell_type": "code",
      "metadata": {
        "id": "gwfb462ymVvs",
        "outputId": "e65e7663-8ee5-4d1e-de62-8803c68541e6",
        "colab": {
          "base_uri": "https://localhost:8080/",
          "height": 34
        }
      },
      "source": [
        "emprestimos['annual_inc'].corr(emprestimos['loan_amnt'])"
      ],
      "execution_count": null,
      "outputs": [
        {
          "output_type": "execute_result",
          "data": {
            "text/plain": [
              "0.3286085847247867"
            ]
          },
          "metadata": {
            "tags": []
          },
          "execution_count": 84
        }
      ]
    },
    {
      "cell_type": "code",
      "metadata": {
        "id": "43we-BIO0fXb",
        "outputId": "f1394bed-2d22-4656-ab43-ba5ee7872812",
        "colab": {
          "base_uri": "https://localhost:8080/",
          "height": 34
        }
      },
      "source": [
        "r2 = lm_model.score(x.reshape(-1, 1), y)\n",
        "\n",
        "print(f'R² do modelo: {r2:.3f}')"
      ],
      "execution_count": null,
      "outputs": [
        {
          "output_type": "stream",
          "text": [
            "R² do modelo: 0.108\n"
          ],
          "name": "stdout"
        }
      ]
    },
    {
      "cell_type": "markdown",
      "metadata": {
        "id": "_vkB8IYImxBr"
      },
      "source": [
        "Tanto pela análise da regressão linear quanto pelo cálculo da correlação não é possível fazer uma relação direta entre as duas variáveis analisadas.\n",
        "\n",
        "Essa visão é complementada pelo baixo coeficiente de determinação (r²)."
      ]
    },
    {
      "cell_type": "markdown",
      "metadata": {
        "id": "kHGR1p8WL6cE"
      },
      "source": [
        "***Regressão polinomial***"
      ]
    },
    {
      "cell_type": "code",
      "metadata": {
        "id": "ztaaI9PHL5QU"
      },
      "source": [
        "\"\"\"\n",
        "Referência complementar:\n",
        "https://www.it-swarm.dev/pt/python/regressao-polinomial-multivariada-com-numpy/1066620986/\n",
        "\"\"\"\n",
        "#X is the independent variable (bivariate in this case)\n",
        "X = np.array([[0.44, 0.68], [0.99, 0.23]])\n",
        "\n",
        "#vector is the dependent data\n",
        "vector = [109.85, 155.72]\n",
        "\n",
        "#predict is an independent variable for which we'd like to predict the value\n",
        "predict = np.array([[0.49, 0.18]])"
      ],
      "execution_count": null,
      "outputs": []
    },
    {
      "cell_type": "code",
      "metadata": {
        "id": "l_5S2NVimd-W",
        "outputId": "91243a5b-6faa-4ac9-bac6-7a601f014cf0",
        "colab": {
          "base_uri": "https://localhost:8080/",
          "height": 86
        }
      },
      "source": [
        "#generate a model of polynomial features\n",
        "poly = PolynomialFeatures(degree=2)\n",
        "\n",
        "#transform the x data for proper fitting (for single variable type it returns,[1,x,x**2])\n",
        "X_ = poly.fit_transform(X)\n",
        "\n",
        "#transform the prediction to fit the model type\n",
        "predict_ = poly.fit_transform(predict)\n",
        "\n",
        "#here we can remove polynomial orders we don't want\n",
        "#for instance I'm removing the `x` component\n",
        "X_ = np.delete(X_,(1),axis=1)\n",
        "predict_ = np.delete(predict_,(1),axis=1)\n",
        "\n",
        "#generate the regression object\n",
        "clf = LinearRegression()\n",
        "#preform the actual regression\n",
        "clf.fit(X_, vector)\n",
        "\n",
        "print(\"X_ = \",X_)\n",
        "print(\"predict_ = \",predict_)\n",
        "print(\"Prediction = \",clf.predict(predict_))"
      ],
      "execution_count": null,
      "outputs": [
        {
          "output_type": "stream",
          "text": [
            "X_ =  [[1.     0.68   0.1936 0.2992 0.4624]\n",
            " [1.     0.23   0.9801 0.2277 0.0529]]\n",
            "predict_ =  [[1.     0.18   0.2401 0.0882 0.0324]]\n",
            "Prediction =  [130.74513479]\n"
          ],
          "name": "stdout"
        }
      ]
    },
    {
      "cell_type": "code",
      "metadata": {
        "id": "a2kh0oSWR0QF",
        "outputId": "08588524-7b88-4480-989f-ef443bc50c07",
        "colab": {
          "base_uri": "https://localhost:8080/",
          "height": 282
        }
      },
      "source": [
        "\"\"\"\n",
        "Verificar exemplo da documentação oficial\n",
        "https://scikit-learn.org/stable/auto_examples/linear_model/plot_polynomial_interpolation.html\n",
        "\"\"\"\n",
        "def f(x):\n",
        "    \"\"\" function to approximate by polynomial interpolation\"\"\"\n",
        "    return x * np.sin(x)\n",
        "\n",
        "\n",
        "# generate points used to plot\n",
        "x_plot = np.linspace(0, 10, 100)\n",
        "\n",
        "# generate points and keep a subset of them\n",
        "x = np.linspace(0, 10, 100)\n",
        "rng = np.random.RandomState(0)\n",
        "rng.shuffle(x)\n",
        "x = np.sort(x[:20])\n",
        "y = f(x)\n",
        "\n",
        "# create matrix versions of these arrays\n",
        "X = x[:, np.newaxis]\n",
        "X_plot = x_plot[:, np.newaxis]\n",
        "\n",
        "colors = ['teal', 'yellowgreen', 'gold']\n",
        "lw = 2\n",
        "plt.plot(x_plot, f(x_plot), color='cornflowerblue', linewidth=lw,\n",
        "         label=\"ground truth\")\n",
        "plt.scatter(x, y, color='navy', s=30, marker='o', label=\"training points\")\n",
        "\n",
        "for count, degree in enumerate([3, 4, 5]):\n",
        "    model = make_pipeline(PolynomialFeatures(degree), Ridge())\n",
        "    model.fit(X, y)\n",
        "    y_plot = model.predict(X_plot)\n",
        "    plt.plot(x_plot, y_plot, color=colors[count], linewidth=lw,\n",
        "             label=\"degree %d\" % degree)\n",
        "\n",
        "plt.legend(loc='lower left')"
      ],
      "execution_count": null,
      "outputs": [
        {
          "output_type": "execute_result",
          "data": {
            "text/plain": [
              "<matplotlib.legend.Legend at 0x7f175dc59fd0>"
            ]
          },
          "metadata": {
            "tags": []
          },
          "execution_count": 136
        },
        {
          "output_type": "display_data",
          "data": {
            "image/png": "[encoded data removed]",
            "text/plain": [
              "<Figure size 432x288 with 1 Axes>"
            ]
          },
          "metadata": {
            "tags": [],
            "needs_background": "light"
          }
        }
      ]
    },
    {
      "cell_type": "code",
      "metadata": {
        "id": "-4L2ToxwUaDf",
        "outputId": "8e3ecd09-097c-4d1d-cb50-b7ab568e5f97",
        "colab": {
          "base_uri": "https://localhost:8080/",
          "height": 269
        }
      },
      "source": [
        "#Adaptação\n",
        "gasolina = pd.DataFrame({'Data': pd.date_range('2019-08-01',\n",
        "                                               periods=7,\n",
        "                                               freq='BM'),\n",
        "                         'Preco': np.array([4.5, 4.99, 5.3, 5.6, 4.8, 6., 6.5])})\n",
        "                      #'Preco': np.array([6., 6.3, 7.3, 9.6, 10.2, 22.6, 38.])})\n",
        "\n",
        "gasolina"
      ],
      "execution_count": null,
      "outputs": [
        {
          "output_type": "execute_result",
          "data": {
            "text/html": [
              "<div>\n",
              "<style scoped>\n",
              "    .dataframe tbody tr th:only-of-type {\n",
              "        vertical-align: middle;\n",
              "    }\n",
              "\n",
              "    .dataframe tbody tr th {\n",
              "        vertical-align: top;\n",
              "    }\n",
              "\n",
              "    .dataframe thead th {\n",
              "        text-align: right;\n",
              "    }\n",
              "</style>\n",
              "<table border=\"1\" class=\"dataframe\">\n",
              "  <thead>\n",
              "    <tr style=\"text-align: right;\">\n",
              "      <th></th>\n",
              "      <th>Data</th>\n",
              "      <th>Preco</th>\n",
              "    </tr>\n",
              "  </thead>\n",
              "  <tbody>\n",
              "    <tr>\n",
              "      <th>0</th>\n",
              "      <td>2019-08-30</td>\n",
              "      <td>4.50</td>\n",
              "    </tr>\n",
              "    <tr>\n",
              "      <th>1</th>\n",
              "      <td>2019-09-30</td>\n",
              "      <td>4.99</td>\n",
              "    </tr>\n",
              "    <tr>\n",
              "      <th>2</th>\n",
              "      <td>2019-10-31</td>\n",
              "      <td>5.30</td>\n",
              "    </tr>\n",
              "    <tr>\n",
              "      <th>3</th>\n",
              "      <td>2019-11-29</td>\n",
              "      <td>5.60</td>\n",
              "    </tr>\n",
              "    <tr>\n",
              "      <th>4</th>\n",
              "      <td>2019-12-31</td>\n",
              "      <td>4.80</td>\n",
              "    </tr>\n",
              "    <tr>\n",
              "      <th>5</th>\n",
              "      <td>2020-01-31</td>\n",
              "      <td>6.00</td>\n",
              "    </tr>\n",
              "    <tr>\n",
              "      <th>6</th>\n",
              "      <td>2020-02-28</td>\n",
              "      <td>6.50</td>\n",
              "    </tr>\n",
              "  </tbody>\n",
              "</table>\n",
              "</div>"
            ],
            "text/plain": [
              "        Data  Preco\n",
              "0 2019-08-30   4.50\n",
              "1 2019-09-30   4.99\n",
              "2 2019-10-31   5.30\n",
              "3 2019-11-29   5.60\n",
              "4 2019-12-31   4.80\n",
              "5 2020-01-31   6.00\n",
              "6 2020-02-28   6.50"
            ]
          },
          "metadata": {
            "tags": []
          },
          "execution_count": 213
        }
      ]
    },
    {
      "cell_type": "code",
      "metadata": {
        "id": "5PR3-QTMkkBy",
        "outputId": "b4466299-e8da-4551-f54c-e7bc0f3e5d85",
        "colab": {
          "base_uri": "https://localhost:8080/",
          "height": 282
        }
      },
      "source": [
        "plt.plot(gasolina.Preco)"
      ],
      "execution_count": null,
      "outputs": [
        {
          "output_type": "execute_result",
          "data": {
            "text/plain": [
              "[<matplotlib.lines.Line2D at 0x7f1766123be0>]"
            ]
          },
          "metadata": {
            "tags": []
          },
          "execution_count": 214
        },
        {
          "output_type": "display_data",
          "data": {
            "image/png": "[encoded data removed]",
            "text/plain": [
              "<Figure size 432x288 with 1 Axes>"
            ]
          },
          "metadata": {
            "tags": [],
            "needs_background": "light"
          }
        }
      ]
    },
    {
      "cell_type": "code",
      "metadata": {
        "id": "rpl5V8u3hV6_"
      },
      "source": [
        "def f(x):\n",
        "    \"\"\" function to approximate by polynomial interpolation\"\"\"\n",
        "    return x * np.sin(x)\n",
        "\n",
        "# generate points used to plot\n",
        "x_plot = np.array(gasolina.Preco)"
      ],
      "execution_count": null,
      "outputs": []
    },
    {
      "cell_type": "code",
      "metadata": {
        "id": "sH83gx1Chwia"
      },
      "source": [
        "# generate points\n",
        "x = np.array(gasolina.Preco)\n",
        "\n",
        "rng = np.random.RandomState(0)\n",
        "rng.shuffle(x)\n",
        "\n",
        "x = np.sort(x)\n",
        "y = f(x)"
      ],
      "execution_count": null,
      "outputs": []
    },
    {
      "cell_type": "code",
      "metadata": {
        "id": "fPDWDXkhhpKA"
      },
      "source": [
        "# create matrix versions of these arrays\n",
        "X = x[:, np.newaxis]\n",
        "X_plot = x_plot[:, np.newaxis]"
      ],
      "execution_count": null,
      "outputs": []
    },
    {
      "cell_type": "code",
      "metadata": {
        "id": "5WEawuV0hcOz",
        "outputId": "34ca05fe-fed9-4c40-8f8a-5f807e22b795",
        "colab": {
          "base_uri": "https://localhost:8080/",
          "height": 282
        }
      },
      "source": [
        "colors = ['teal', 'yellowgreen', 'gold']\n",
        "lw = 2\n",
        "plt.plot(x_plot, f(x_plot),\n",
        "         color='cornflowerblue',\n",
        "         linewidth=lw,\n",
        "         label=\"ground truth\")\n",
        "\n",
        "plt.scatter(x, y,\n",
        "            color='navy',\n",
        "            s=30,\n",
        "            marker='o',\n",
        "            label=\"training points\")\n",
        "\n",
        "for count, degree in enumerate([3, 4, 5]):\n",
        "    model = make_pipeline(PolynomialFeatures(degree), Ridge())\n",
        "    model.fit(X, y)\n",
        "    y_plot = model.predict(X_plot)\n",
        "    \n",
        "    plt.plot(x_plot,\n",
        "             y_plot,\n",
        "             color=colors[count],\n",
        "             linewidth=lw,\n",
        "             label=\"degree %d\" % degree)\n",
        "\n",
        "plt.legend(loc='best')"
      ],
      "execution_count": null,
      "outputs": [
        {
          "output_type": "execute_result",
          "data": {
            "text/plain": [
              "<matplotlib.legend.Legend at 0x7f175f2953c8>"
            ]
          },
          "metadata": {
            "tags": []
          },
          "execution_count": 218
        },
        {
          "output_type": "display_data",
          "data": {
            "image/png": "[encoded data removed]",
            "text/plain": [
              "<Figure size 432x288 with 1 Axes>"
            ]
          },
          "metadata": {
            "tags": [],
            "needs_background": "light"
          }
        }
      ]
    },
    {
      "cell_type": "code",
      "metadata": {
        "id": "qgWUArmVjPIE",
        "outputId": "7482338d-09f3-4c94-93c1-1ecb0d9df735",
        "colab": {
          "base_uri": "https://localhost:8080/",
          "height": 173
        }
      },
      "source": [
        "model"
      ],
      "execution_count": null,
      "outputs": [
        {
          "output_type": "execute_result",
          "data": {
            "text/plain": [
              "Pipeline(memory=None,\n",
              "         steps=[('polynomialfeatures',\n",
              "                 PolynomialFeatures(degree=5, include_bias=True,\n",
              "                                    interaction_only=False, order='C')),\n",
              "                ('ridge',\n",
              "                 Ridge(alpha=1.0, copy_X=True, fit_intercept=True,\n",
              "                       max_iter=None, normalize=False, random_state=None,\n",
              "                       solver='auto', tol=0.001))],\n",
              "         verbose=False)"
            ]
          },
          "metadata": {
            "tags": []
          },
          "execution_count": 219
        }
      ]
    }
  ]
}